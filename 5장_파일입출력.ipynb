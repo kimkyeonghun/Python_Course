{
 "cells": [
  {
   "cell_type": "markdown",
   "metadata": {},
   "source": [
    "# 파일입출력\n",
    "\n",
    "1. 여는 방법(읽기 쓰기 모드) f open f close\n",
    "2. 작성하기 f write, print\n",
    "3. 읽어오기 readline, readlines, read\n",
    "4. import os"
   ]
  },
  {
   "cell_type": "markdown",
   "metadata": {
    "collapsed": true
   },
   "source": [
    "만약 엄청 긴 문자열 중에 특정 단어를 세야 하는 업무를 받았다고 하자. 그렇다면 문자열을 하나의 변수로 받아 count 함수를 사용해서 단어를 세면 된다고 생각할 수 있다. 하지만 엄청 긴 문자열이라 타이핑해서 옮기는 것도 불가능하고 복사해서 붙이는 방법을 쓰기에도 너무 크다면 어떻게 해야할까?\n",
    "\n",
    "이럴 경우에는 이 문자열을 txt 파일로 만든 후 이를 입력으로 받아오면 된다. 이처럼 프로그래밍에서는 외부 파일을 '입력'으로 받아서 여러 작업을 할 수 있다. 또한 작성을 할 수도 있다."
   ]
  },
  {
   "cell_type": "markdown",
   "metadata": {},
   "source": [
    "## 파일 읽어오는 방법\n",
    "\n",
    "파일을 읽어오는 방법은 open이라는 함수를 사용하는 것이다. open은 보통 두 개의 매개변수만 사용한다. 첫 번째 매개변수는 내가 열 파일의 이름이고, 두 번째 매개변수는 모드를 선택하는 것이다. 모드는 'r' 모드, 'w' 모드, 'a' 모드가 있는데 r은 읽기 모드 , w는 쓰기 모드, a 는 추가 모드이다. 즉 open(파일이름, 파일 열기 모드)과 같이 사용을 한다. 결과값으로 파일 객체를 반환한다. 그리고 중요한 점으로 항상 파일을 open 했다면 close를 해야 한다. 일반적으로 프로그램을 종료하면 자동으로 close 되긴 하나 되도록 닫아주는 것이 좋다. close는 다음과 같은 방법으로 한다."
   ]
  },
  {
   "cell_type": "code",
   "execution_count": 3,
   "metadata": {},
   "outputs": [
    {
     "name": "stdout",
     "output_type": "stream",
     "text": [
      "<_io.TextIOWrapper name='file_example.txt' mode='r' encoding='cp949'>\n"
     ]
    }
   ],
   "source": [
    "file=open(\"file_example.txt\",'r')\n",
    "print(file)\n",
    "file.close()"
   ]
  },
  {
   "cell_type": "markdown",
   "metadata": {},
   "source": [
    "### 쓰기 모드\n",
    "\n",
    "쓰기 모드는 open(내가 작성할 파일 명,'w')과 같이 사용하며 내가 작성하고 있는 파일 공간에 그 파일 명의 txt 파일이 없다면 생성해서 작성한다. 만약 동일한 명의 txt 파일이 있었다면 그 안의 내용은 모두 지우고 새로 작성하게 된다."
   ]
  },
  {
   "cell_type": "code",
   "execution_count": 1,
   "metadata": {},
   "outputs": [],
   "source": [
    "f=open(\"new_file.txt\",\"w\")\n",
    "for i in range(1,11):\n",
    "    data=str(i)+\"'s line \\n\"\n",
    "    f.write(data)\n",
    "f.close()"
   ]
  },
  {
   "cell_type": "markdown",
   "metadata": {},
   "source": [
    "### 읽기 모드\n",
    "읽는 방법에는 readline, readlines, read 세가지 방법이 있다. 각각 활용하는 방법이 다르다.\n",
    "\n",
    "#### readline\n",
    "readline은 한 줄씩 읽는 방법이다. 하나의 readline 당 txt 파일의 한 줄을 읽어오며 txt 파일을 전부 읽어오려면 여러번의 readline을 사용해야 한다."
   ]
  },
  {
   "cell_type": "code",
   "execution_count": 2,
   "metadata": {},
   "outputs": [
    {
     "name": "stdout",
     "output_type": "stream",
     "text": [
      "1's line \n",
      "\n"
     ]
    }
   ],
   "source": [
    "f=open(\"new_file.txt\",\"r\")\n",
    "line=f.readline()\n",
    "print(line)\n",
    "f.close()"
   ]
  },
  {
   "cell_type": "code",
   "execution_count": 3,
   "metadata": {},
   "outputs": [
    {
     "name": "stdout",
     "output_type": "stream",
     "text": [
      "1's line \n",
      "\n",
      "2's line \n",
      "\n",
      "3's line \n",
      "\n",
      "4's line \n",
      "\n",
      "5's line \n",
      "\n",
      "6's line \n",
      "\n",
      "7's line \n",
      "\n",
      "8's line \n",
      "\n",
      "9's line \n",
      "\n",
      "10's line \n",
      "\n"
     ]
    }
   ],
   "source": [
    "f=open(\"new_file.txt\",\"r\")\n",
    "while(True):\n",
    "    line=f.readline()\n",
    "    if not line: break\n",
    "    print(line)\n",
    "f.close()"
   ]
  },
  {
   "cell_type": "markdown",
   "metadata": {},
   "source": [
    "readline 으로 읽어와서 print 할 경우 두 번 줄 바꿈을 하게 되는데 그 이유는 readline으로 한 줄을 읽어 올 때 \".....\\n\"로 읽어오게 되고 print도 내장함수에 끝날 때 \\n을 붙이기 때문에 두 번 줄바꿈을 하게 되는 것이다. 따라서 이를 방지 하기 위해서 공백, 줄바꿈을 없애주는 함수는 strip을 사용하도록 한다."
   ]
  },
  {
   "cell_type": "code",
   "execution_count": 4,
   "metadata": {},
   "outputs": [
    {
     "name": "stdout",
     "output_type": "stream",
     "text": [
      "1's line\n",
      "2's line\n",
      "3's line\n",
      "4's line\n",
      "5's line\n",
      "6's line\n",
      "7's line\n",
      "8's line\n",
      "9's line\n",
      "10's line\n"
     ]
    }
   ],
   "source": [
    "f=open(\"new_file.txt\",\"r\")\n",
    "while(True):\n",
    "    line=f.readline()\n",
    "    if not line: break\n",
    "    print(line.strip())\n",
    "f.close()"
   ]
  },
  {
   "cell_type": "markdown",
   "metadata": {},
   "source": [
    "#### readlines\n",
    "\n",
    "readline 에서 더 발전된 형태로 파일을 모두 읽어서 각각의 줄을 하나의 요소로 가지는 리스트로 리턴 된다. 따라서 [\".......\\n\",\"........\\n\",\".......\\n\",...]과 같은 형식을 가지고 있다."
   ]
  },
  {
   "cell_type": "code",
   "execution_count": 5,
   "metadata": {},
   "outputs": [
    {
     "name": "stdout",
     "output_type": "stream",
     "text": [
      "1's line\n",
      "2's line\n",
      "3's line\n",
      "4's line\n",
      "5's line\n",
      "6's line\n",
      "7's line\n",
      "8's line\n",
      "9's line\n",
      "10's line\n"
     ]
    }
   ],
   "source": [
    "f=open(\"new_file.txt\",\"r\")\n",
    "lines=f.readlines()\n",
    "for i in lines:\n",
    "    print(i.strip())\n",
    "f.close()"
   ]
  },
  {
   "cell_type": "markdown",
   "metadata": {},
   "source": [
    "#### read\n",
    "\n",
    "read는 파일 내용 전체를 문자열로 리턴한다."
   ]
  },
  {
   "cell_type": "code",
   "execution_count": 6,
   "metadata": {},
   "outputs": [
    {
     "name": "stdout",
     "output_type": "stream",
     "text": [
      "1's line \n",
      "2's line \n",
      "3's line \n",
      "4's line \n",
      "5's line \n",
      "6's line \n",
      "7's line \n",
      "8's line \n",
      "9's line \n",
      "10's line \n",
      "\n"
     ]
    }
   ],
   "source": [
    "f=open(\"new_file.txt\",\"r\")\n",
    "lines=f.read()\n",
    "print(lines)\n",
    "f.close()"
   ]
  },
  {
   "cell_type": "markdown",
   "metadata": {},
   "source": [
    "#### with\n",
    "\n",
    "with로 파일을 열 수 있다. with문을 통해서 파일을 열 경우 일반 open과 달리 close를 할 필요가 없다."
   ]
  },
  {
   "cell_type": "code",
   "execution_count": 7,
   "metadata": {},
   "outputs": [
    {
     "name": "stdout",
     "output_type": "stream",
     "text": [
      "1's line \n",
      "2's line \n",
      "3's line \n",
      "4's line \n",
      "5's line \n",
      "6's line \n",
      "7's line \n",
      "8's line \n",
      "9's line \n",
      "10's line \n",
      "\n"
     ]
    }
   ],
   "source": [
    "with open(\"new_file.txt\",\"r\") as f:\n",
    "    print(f.read())"
   ]
  },
  {
   "cell_type": "markdown",
   "metadata": {},
   "source": [
    "### import os\n",
    "\n",
    "파일을 저장하거나 읽는 것은 현재 파이썬이 실행되고 있는 폴더 내에서 진행이 된다. 따라서 현재 실행되고 있는 폴더에 파일이 없으면 읽어올수도 없고 경로 지정없이 파일을 저장한다면 파일을 찾기가 힘들 수도 있다.\n",
    "\n",
    "따라서 python에서는 파일의 경로에 관한 os라는 내장모듈이 있다.\n",
    "\n",
    "#### os.getcwd()\n",
    "os.getcwd()는 현재 작업하고 있는 파일 디렉토리의 경로를 얻어오는 함수로 현재 작업하고 있는 위치를 확인을 할 수 있고, 만약 작업 디렉토리의 경로를 이동했다면 잘 이동 했는지 확인을 할 수 있다."
   ]
  },
  {
   "cell_type": "code",
   "execution_count": 1,
   "metadata": {},
   "outputs": [
    {
     "data": {
      "text/plain": [
       "'C:\\\\Users\\\\경훈'"
      ]
     },
     "execution_count": 1,
     "metadata": {},
     "output_type": "execute_result"
    }
   ],
   "source": [
    "import os\n",
    "os.getcwd()"
   ]
  },
  {
   "cell_type": "markdown",
   "metadata": {},
   "source": [
    "#### os.chdir()\n",
    "os.chdir()는 작업 디렉토리의 경로를 바꿔주는 함수로 () 안에 내가 바꾸고 싶은 경로를 입력해주면 된다."
   ]
  },
  {
   "cell_type": "code",
   "execution_count": 8,
   "metadata": {},
   "outputs": [
    {
     "data": {
      "text/plain": [
       "'C:\\\\Users'"
      ]
     },
     "execution_count": 8,
     "metadata": {},
     "output_type": "execute_result"
    }
   ],
   "source": [
    "os.chdir(\"C:\\\\Users\")\n",
    "os.getcwd()"
   ]
  },
  {
   "cell_type": "markdown",
   "metadata": {
    "collapsed": true
   },
   "source": [
    "### Quiz 1\n",
    "\n",
    "당신은 매주 1회 작성해야 하는 보고서가 있습니다.<br>\n",
    "보고서는 항상 아래와 같은 형태로 출력되어야 합니다.\n",
    "\n",
    "\\- X 주차 주간보고 -<br>\n",
    "Team : <br>\n",
    "Name :<br>\n",
    "Last Week :<br>\n",
    "Next Week :<br>\n",
    "\n",
    "1주차부터 20주차까지의 보고서 파일을 만드는 프로그램을 만드시오.\n",
    "\n",
    "조건 1. 파일명은 X주차주간보고.txt와 같이 만든다."
   ]
  },
  {
   "cell_type": "code",
   "execution_count": null,
   "metadata": {},
   "outputs": [],
   "source": []
  }
 ],
 "metadata": {
  "kernelspec": {
   "display_name": "Python 3",
   "language": "python",
   "name": "python3"
  },
  "language_info": {
   "codemirror_mode": {
    "name": "ipython",
    "version": 3
   },
   "file_extension": ".py",
   "mimetype": "text/x-python",
   "name": "python",
   "nbconvert_exporter": "python",
   "pygments_lexer": "ipython3",
   "version": "3.7.3"
  }
 },
 "nbformat": 4,
 "nbformat_minor": 2
}
