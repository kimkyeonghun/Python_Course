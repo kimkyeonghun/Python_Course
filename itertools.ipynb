{
 "cells": [
  {
   "cell_type": "markdown",
   "metadata": {},
   "source": [
    "### accumulate\n",
    "\n",
    "누적 합계나 다른 함수(func 인자를 통해 지정된)의 누적 결과를 반환하는 이터레이터를 만든다.<br>\n",
    "\n",
    "func가 제공되면, 두 인자를 취하는 함수여야 하고 iterable한 요소를 지원해야 한다. 즉, 연산을 할 수 있는 함수여야 하는 것이다. 그리고 출력되는 요소는 입력의 길이와 누적되고, 초기값으로 부터 시작해서 누적 연산 된 값을 반환다.\n",
    "\n",
    "이 함수는 functools에 있는 reduce와 유사하다."
   ]
  },
  {
   "cell_type": "code",
   "execution_count": 6,
   "metadata": {},
   "outputs": [
    {
     "name": "stdout",
     "output_type": "stream",
     "text": [
      "누적 합 [3, 7, 13, 15, 16, 25, 25, 32, 37, 45]\n",
      "누적 곱 [3, 12, 72, 144, 144, 1296, 0, 0, 0, 0]\n",
      "누적 최대 [3, 4, 6, 6, 6, 9, 9, 9, 9, 9]\n"
     ]
    }
   ],
   "source": [
    "from itertools import accumulate\n",
    "import operator\n",
    "data = [3, 4, 6, 2, 1, 9, 0, 7, 5, 8]\n",
    "print(\"누적 합\", list(accumulate(data)))\n",
    "print(\"누적 곱\", list(accumulate(data,operator.mul)))\n",
    "print(\"누적 최대\", list(accumulate(data,max)))"
   ]
  },
  {
   "cell_type": "markdown",
   "metadata": {},
   "source": [
    "### chain\n",
    "여러 iterable을 하나의 iterable처럼 처리할 수 있도록 한다."
   ]
  },
  {
   "cell_type": "code",
   "execution_count": 10,
   "metadata": {},
   "outputs": [
    {
     "data": {
      "text/plain": [
       "['A', 'B', 'C', 'D', 'E', 'F', 'G', 'H', 'I']"
      ]
     },
     "execution_count": 10,
     "metadata": {},
     "output_type": "execute_result"
    }
   ],
   "source": [
    "from itertools import chain\n",
    "\n",
    "c = chain('ABC','DEF','GHI')\n",
    "list(c)"
   ]
  },
  {
   "cell_type": "markdown",
   "metadata": {},
   "source": [
    "#### from_iterable\n",
    "chain()의 클래스 메서드. chain과 다른 점은 chain은 입력값으로 여러개를 받을 수 있지만, from_iterable은 단일 iteable 안에 인자로 부여해야 한다."
   ]
  },
  {
   "cell_type": "code",
   "execution_count": 12,
   "metadata": {},
   "outputs": [
    {
     "data": {
      "text/plain": [
       "['A', 'B', 'C', 'D', 'E', 'F', 'G', 'H', 'I']"
      ]
     },
     "execution_count": 12,
     "metadata": {},
     "output_type": "execute_result"
    }
   ],
   "source": [
    "c = chain.from_iterable(['ABC','DEF','GHI'])\n",
    "list(c)"
   ]
  },
  {
   "cell_type": "markdown",
   "metadata": {},
   "source": [
    "### combinations\n",
    "입력 iterable에서 요소의 길이 r에 해당하는 서브 시퀀스들을 생성한다.\n",
    "\n",
    "조합은 입력 iterable의 순서에 따라 사전식으로 반환한다. 따라서 입력 iterable이 정렬되어 있으면, combinations도 정렬된 순서로 생성한다.\n",
    "\n",
    "요소는 값이 아니라 위치로 고유성을 다루기 때문에, 같은 값을 가지고 있어도 조합식을 생성한다."
   ]
  },
  {
   "cell_type": "code",
   "execution_count": 14,
   "metadata": {},
   "outputs": [
    {
     "data": {
      "text/plain": [
       "[('A', 'B'),\n",
       " ('A', 'B'),\n",
       " ('A', 'C'),\n",
       " ('A', 'D'),\n",
       " ('B', 'B'),\n",
       " ('B', 'C'),\n",
       " ('B', 'D'),\n",
       " ('B', 'C'),\n",
       " ('B', 'D'),\n",
       " ('C', 'D')]"
      ]
     },
     "execution_count": 14,
     "metadata": {},
     "output_type": "execute_result"
    }
   ],
   "source": [
    "from itertools import combinations\n",
    "\n",
    "c = list(combinations(['A','B','B','C','D'],2))\n",
    "c"
   ]
  },
  {
   "cell_type": "markdown",
   "metadata": {},
   "source": [
    "### combinations_with_replacement\n",
    "입력 iterable에서 요소의 길이 r에 해당하는 서브 시퀀스들을 생성하는데, 요소를 두 번 이상 반복할 수 있다. 즉, 본인 값도 포함하여 조합을 생성한다.\n",
    "\n",
    "조합은 입력 iterable의 순서에 따라 사전식으로 반환한다. 따라서 입력 iterable이 정렬되어 있으면, combinations도 정렬된 순서로 생성한다.\n",
    "\n",
    "요소는 값이 아니라 위치로 고유성을 다루기 때문에, 같은 값을 가지고 있어도 조합식을 생성한다."
   ]
  },
  {
   "cell_type": "code",
   "execution_count": 15,
   "metadata": {},
   "outputs": [
    {
     "data": {
      "text/plain": [
       "[('A', 'A'),\n",
       " ('A', 'B'),\n",
       " ('A', 'B'),\n",
       " ('A', 'C'),\n",
       " ('A', 'D'),\n",
       " ('B', 'B'),\n",
       " ('B', 'B'),\n",
       " ('B', 'C'),\n",
       " ('B', 'D'),\n",
       " ('B', 'B'),\n",
       " ('B', 'C'),\n",
       " ('B', 'D'),\n",
       " ('C', 'C'),\n",
       " ('C', 'D'),\n",
       " ('D', 'D')]"
      ]
     },
     "execution_count": 15,
     "metadata": {},
     "output_type": "execute_result"
    }
   ],
   "source": [
    "from itertools import combinations_with_replacement\n",
    "\n",
    "c = list(combinations_with_replacement(['A','B','B','C','D'],2))\n",
    "c"
   ]
  },
  {
   "cell_type": "markdown",
   "metadata": {},
   "source": [
    "### compress\n",
    "\n",
    "data에서 selector에서 True로 선택된 요소들만 반환하는 이터레이터를 만든다. data나 selectors iterable이 모두 소진되면 중지한다."
   ]
  },
  {
   "cell_type": "code",
   "execution_count": 4,
   "metadata": {},
   "outputs": [
    {
     "name": "stdout",
     "output_type": "stream",
     "text": [
      "['A', 'C', 'E', 'F']\n",
      "['A', 'C', 'E']\n",
      "['A', 'C', 'E']\n"
     ]
    }
   ],
   "source": [
    "from itertools import compress\n",
    "\n",
    "print(list(compress('ABCDEF',[1,0,1,0,1,1])))\n",
    "#selector가 먼저 끝남\n",
    "print(list(compress('ABCDEF',[1,0,1,0,1])))\n",
    "#data가 먼저 끝남\n",
    "print(list(compress('ABCDE',[1,0,1,0,1,1])))"
   ]
  },
  {
   "cell_type": "markdown",
   "metadata": {},
   "source": [
    "### count\n",
    "\n",
    "숫자 start로 시작해서 균등 간격의 값을 반환하는 이터레이터를 만든다.(무한히 증가한다.)"
   ]
  },
  {
   "cell_type": "code",
   "execution_count": 11,
   "metadata": {},
   "outputs": [
    {
     "name": "stdout",
     "output_type": "stream",
     "text": [
      "10\n",
      "20\n",
      "30\n",
      "40\n",
      "50\n",
      "60\n",
      "70\n",
      "80\n",
      "90\n",
      "100\n",
      "fin\n"
     ]
    }
   ],
   "source": [
    "from itertools import count\n",
    "\n",
    "for i in count(10):\n",
    "    if not i%10:\n",
    "        print(i)\n",
    "    if i==100:\n",
    "        print(\"fin\")\n",
    "        break"
   ]
  },
  {
   "cell_type": "code",
   "execution_count": 10,
   "metadata": {},
   "outputs": [
    {
     "name": "stdout",
     "output_type": "stream",
     "text": [
      "3.0\n",
      "4.0\n",
      "5.0\n",
      "6.0\n",
      "7.0\n",
      "8.0\n",
      "9.0\n",
      "10.0\n",
      "fin\n"
     ]
    }
   ],
   "source": [
    "from itertools import count\n",
    "\n",
    "for i in count(2.5,0.5):\n",
    "    if i==int(i):\n",
    "        print(i)\n",
    "    if i==10:\n",
    "        print(\"fin\")\n",
    "        break"
   ]
  },
  {
   "cell_type": "markdown",
   "metadata": {},
   "source": [
    "### cycle\n",
    "\n",
    "iterable에서 요소를 반환하고 각 사본을 저장하는 이터레이터를 만든다. iterable이 소진되면, 저장된 사본에서 요소를 반환한다. 이는 무한히 반복한다."
   ]
  },
  {
   "cell_type": "code",
   "execution_count": 12,
   "metadata": {},
   "outputs": [
    {
     "name": "stdout",
     "output_type": "stream",
     "text": [
      "A\n",
      "B\n",
      "C\n",
      "D\n",
      "A\n",
      "B\n",
      "C\n",
      "D\n",
      "A\n",
      "B\n",
      "C\n"
     ]
    }
   ],
   "source": [
    "from itertools import cycle\n",
    "\n",
    "for i,v in enumerate(cycle('ABCD')):\n",
    "    print(v)\n",
    "    if i==10:\n",
    "        break"
   ]
  },
  {
   "cell_type": "markdown",
   "metadata": {},
   "source": [
    "### dropwhile\n",
    "\n",
    "predicate가 참인 iterable에서 요소를 걸러내는 이터레이터를 만든다. 그 후에 모든 요소를 반환한다. 즉 조건이 거짓인 시점 이후로 모든 값을 반환한다."
   ]
  },
  {
   "cell_type": "code",
   "execution_count": 14,
   "metadata": {},
   "outputs": [
    {
     "name": "stdout",
     "output_type": "stream",
     "text": [
      "[6, 4, 1]\n"
     ]
    }
   ],
   "source": [
    "from itertools import dropwhile\n",
    "\n",
    "print(list(dropwhile(lambda x: x< 5, [1,4,6,4,1])))"
   ]
  },
  {
   "cell_type": "markdown",
   "metadata": {},
   "source": [
    "### filterfalse\n",
    "\n",
    "iterable에서 요소를 걸러내어 predicate가 False인 요소만 반환하는 iterable을 만든다."
   ]
  },
  {
   "cell_type": "code",
   "execution_count": 15,
   "metadata": {},
   "outputs": [
    {
     "name": "stdout",
     "output_type": "stream",
     "text": [
      "[0, 2, 4, 6, 8]\n"
     ]
    }
   ],
   "source": [
    "from itertools import filterfalse\n",
    "\n",
    "print(list(filterfalse(lambda x: x%2==1, range(10))))"
   ]
  },
  {
   "cell_type": "markdown",
   "metadata": {},
   "source": [
    "### groupby\n",
    "\n",
    "iterable을 key값으로 분류한 결과를 리턴하는 함수다. key는 분류의 기준이 되는 함수다. key 값을 부여하지 않으면 identity function이고 요소를 변경하지 않고 반환한다. groupby를 사용하기 전에 key를 기준으로 정렬을 진행해야 한다."
   ]
  },
  {
   "cell_type": "code",
   "execution_count": 16,
   "metadata": {},
   "outputs": [],
   "source": [
    "data = [\n",
    "    {'name': '김경훈', 'grade': 'A'},\n",
    "    {'name': '김휘군', 'grade': 'B'},\n",
    "    {'name': '박진욱', 'grade': 'A'},\n",
    "    {'name': '이지은', 'grade': 'C'},\n",
    "    {'name': '서주연', 'grade': 'A'},\n",
    "    {'name': '조준흠', 'grade': 'D'},\n",
    "    {'name': '홍정수', 'grade': 'C'},\n",
    "    {'name': '박성민', 'grade': 'B'}\n",
    "]"
   ]
  },
  {
   "cell_type": "code",
   "execution_count": 18,
   "metadata": {},
   "outputs": [
    {
     "data": {
      "text/plain": [
       "[{'name': '김경훈', 'grade': 'A'},\n",
       " {'name': '박진욱', 'grade': 'A'},\n",
       " {'name': '서주연', 'grade': 'A'},\n",
       " {'name': '김휘군', 'grade': 'B'},\n",
       " {'name': '박성민', 'grade': 'B'},\n",
       " {'name': '이지은', 'grade': 'C'},\n",
       " {'name': '홍정수', 'grade': 'C'},\n",
       " {'name': '조준흠', 'grade': 'D'}]"
      ]
     },
     "execution_count": 18,
     "metadata": {},
     "output_type": "execute_result"
    }
   ],
   "source": [
    "data = sorted(data,key=lambda x: x['grade'])\n",
    "data"
   ]
  },
  {
   "cell_type": "code",
   "execution_count": 20,
   "metadata": {},
   "outputs": [
    {
     "name": "stdout",
     "output_type": "stream",
     "text": [
      "{'A': [{'grade': 'A', 'name': '김경훈'},\n",
      "       {'grade': 'A', 'name': '박진욱'},\n",
      "       {'grade': 'A', 'name': '서주연'}],\n",
      " 'B': [{'grade': 'B', 'name': '김휘군'}, {'grade': 'B', 'name': '박성민'}],\n",
      " 'C': [{'grade': 'C', 'name': '이지은'}, {'grade': 'C', 'name': '홍정수'}],\n",
      " 'D': [{'grade': 'D', 'name': '조준흠'}]}\n"
     ]
    }
   ],
   "source": [
    "from itertools import groupby\n",
    "\n",
    "grouped_data = groupby(data,key=lambda x: x['grade'])\n",
    "result = {}\n",
    "for key, group_data in grouped_data:\n",
    "    result[key] = list(group_data)\n",
    "    \n",
    "from pprint import pprint\n",
    "pprint(result)"
   ]
  },
  {
   "cell_type": "markdown",
   "metadata": {},
   "source": [
    "### islice\n",
    "\n",
    "iterable에서 선택된 요소를 반환하는 이터레이터를 만든다. start, stop, step을 지정할 수 있다. stop이 None일 경우 start로부터 끝까지 계속된다. start, stop, step에 음수 값을 지원하지 않는다."
   ]
  },
  {
   "cell_type": "code",
   "execution_count": 25,
   "metadata": {},
   "outputs": [
    {
     "name": "stdout",
     "output_type": "stream",
     "text": [
      "['A', 'B']\n",
      "['C', 'D', 'E']\n",
      "['C', 'D', 'E', 'F', 'G', 'H']\n",
      "['C', 'E', 'G']\n"
     ]
    }
   ],
   "source": [
    "from itertools import islice\n",
    "\n",
    "print(list(islice('ABCDEFGH',2)))\n",
    "print(list(islice('ABCDEFGH',2,5)))\n",
    "print(list(islice('ABCDEFGH',2,None)))\n",
    "print(list(islice('ABCDEFGH',2,None,2)))"
   ]
  },
  {
   "cell_type": "markdown",
   "metadata": {},
   "source": [
    "### permutations\n",
    "\n",
    "combinations가 조합을 생성했던것처럼 r 길이의 순열을 반환한다.\n",
    "조합과 비슷하게 순열 튜플도 입력 iterable에 순서에 따라 사전식 순서로 반환한다."
   ]
  },
  {
   "cell_type": "code",
   "execution_count": 1,
   "metadata": {},
   "outputs": [
    {
     "name": "stdout",
     "output_type": "stream",
     "text": [
      "[('A', 'B'), ('A', 'C'), ('A', 'D'), ('A', 'E'), ('B', 'A'), ('B', 'C'), ('B', 'D'), ('B', 'E'), ('C', 'A'), ('C', 'B'), ('C', 'D'), ('C', 'E'), ('D', 'A'), ('D', 'B'), ('D', 'C'), ('D', 'E'), ('E', 'A'), ('E', 'B'), ('E', 'C'), ('E', 'D')]\n"
     ]
    }
   ],
   "source": [
    "from itertools import permutations\n",
    "\n",
    "print(list(permutations('ABCDE',2)))"
   ]
  },
  {
   "cell_type": "markdown",
   "metadata": {},
   "source": [
    "### product\n",
    "\n",
    "iterable들의 곱집합을 의미한다.<br> \n",
    "[x*y for x in A for y in B]와 같은 동작을 수행한다. <br>\n",
    "repeat 인자를 사용하면 자신 iterable을 repeat만큼 복사한 후 곱집합을 구한다."
   ]
  },
  {
   "cell_type": "code",
   "execution_count": 4,
   "metadata": {},
   "outputs": [
    {
     "name": "stdout",
     "output_type": "stream",
     "text": [
      "[('A', 'x'), ('A', 'y'), ('B', 'x'), ('B', 'y'), ('C', 'x'), ('C', 'y'), ('D', 'x'), ('D', 'y')]\n",
      "[(0, 0, 0), (0, 0, 1), (0, 1, 0), (0, 1, 1), (1, 0, 0), (1, 0, 1), (1, 1, 0), (1, 1, 1)]\n"
     ]
    }
   ],
   "source": [
    "from itertools import product\n",
    "\n",
    "print(list(product('ABCD','xy')))\n",
    "print(list(product(range(2),repeat=3)))"
   ]
  },
  {
   "cell_type": "markdown",
   "metadata": {},
   "source": [
    "### repeat\n",
    "\n",
    "주어진 값을 times 만큼 반복한다. times가 주어지지 않으면 무한히 반복한다."
   ]
  },
  {
   "cell_type": "code",
   "execution_count": 6,
   "metadata": {},
   "outputs": [
    {
     "name": "stdout",
     "output_type": "stream",
     "text": [
      "['Hello World!', 'Hello World!', 'Hello World!', 'Hello World!']\n"
     ]
    }
   ],
   "source": [
    "from itertools import repeat\n",
    "print(list(repeat(\"Hello World!\",4)))"
   ]
  },
  {
   "cell_type": "markdown",
   "metadata": {},
   "source": [
    "### starmap\n",
    "\n",
    "map의 \\*map의 버젼. 즉, 기존 map은 iterable의 안의 item에 대해서 함수를 수행했지만, starmap은 iterable안의 iterable에 대해서 함수를 수행할 수 있도록 함"
   ]
  },
  {
   "cell_type": "code",
   "execution_count": 7,
   "metadata": {},
   "outputs": [
    {
     "name": "stdout",
     "output_type": "stream",
     "text": [
      "[32, 9, 1000]\n"
     ]
    }
   ],
   "source": [
    "from itertools import starmap\n",
    "print(list(starmap(pow, [(2,5),(3,2),(10,3)])))"
   ]
  },
  {
   "cell_type": "markdown",
   "metadata": {},
   "source": [
    "### takewhile\n",
    "\n",
    "dropwhile의 반대버젼, iterable의 첫 거짓이 나오는 순간 멈추며 그 전까지의 iterable만 반환함"
   ]
  },
  {
   "cell_type": "code",
   "execution_count": 8,
   "metadata": {},
   "outputs": [
    {
     "name": "stdout",
     "output_type": "stream",
     "text": [
      "[1, 4]\n"
     ]
    }
   ],
   "source": [
    "from itertools import takewhile\n",
    "print(list(takewhile(lambda x: x<5, [1,4,6,4,1])))"
   ]
  },
  {
   "cell_type": "markdown",
   "metadata": {},
   "source": [
    "### tee\n",
    "iterable과 복사본 갯수(n)를 입력으로 받는다. iterable을 n번 반복하여 생성한다.\n",
    "다만, 해당 값을 한번 참조하고 난 뒤에는 더 이상 값에 접근할 수 없다."
   ]
  },
  {
   "cell_type": "code",
   "execution_count": 14,
   "metadata": {},
   "outputs": [
    {
     "name": "stdout",
     "output_type": "stream",
     "text": [
      "['1', '2', '3', '4']\n",
      "[]\n",
      "['1', '2', '3', '4']\n",
      "[]\n",
      "['1', '2', '3', '4']\n",
      "[]\n"
     ]
    }
   ],
   "source": [
    "from itertools import tee\n",
    "t1,t2,t3 = tee('1234',3)\n",
    "print(list(t1))\n",
    "print(list(t1))\n",
    "print(list(t2))\n",
    "print(list(t2))\n",
    "print(list(t3))\n",
    "print(list(t3))"
   ]
  },
  {
   "cell_type": "markdown",
   "metadata": {},
   "source": [
    "### zip_longest\n",
    "\n",
    "기존 zip은 더 짧은 객체를 기준으로 수행되었지만, 더 긴 객체를 기준으로 zip을 수행하도록 한다."
   ]
  }
 ],
 "metadata": {
  "kernelspec": {
   "display_name": "Python 3",
   "language": "python",
   "name": "python3"
  },
  "language_info": {
   "codemirror_mode": {
    "name": "ipython",
    "version": 3
   },
   "file_extension": ".py",
   "mimetype": "text/x-python",
   "name": "python",
   "nbconvert_exporter": "python",
   "pygments_lexer": "ipython3",
   "version": "3.7.3"
  }
 },
 "nbformat": 4,
 "nbformat_minor": 4
}
