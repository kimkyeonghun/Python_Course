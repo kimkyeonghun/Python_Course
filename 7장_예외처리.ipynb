{
 "cells": [
  {
   "cell_type": "markdown",
   "metadata": {},
   "source": [
    "# 예외처리\n",
    "\n",
    "프로그램을 만들다 보면 많은 오류를 만난다. 오류가 발생하는 이유는 프로그램이 올바르게 동작되도록 해주는 파이썬의 능력이다. 하지만 가끔은 이러한 오류를 무시하고 싶을 때도 있다. 이러한 기능도 파이썬은 try, except를 이용해서 오류를 처리하도록 해준다."
   ]
  },
  {
   "cell_type": "markdown",
   "metadata": {},
   "source": [
    "## 자주발생하는 에러\n",
    "\n",
    "오류를 처리하는 방법을 알기 전에 자주 발생하는 에러들에 대해 알아보자."
   ]
  },
  {
   "cell_type": "markdown",
   "metadata": {},
   "source": [
    "### IndexError\n",
    "프로그래밍을 하면서 가장 많이 만날 에러이다. 파이썬은 iterable한 객체에 인덱스로 접근을 할 수 있는데 iterable한 객체보다 더 큰 크기의 인덱스로 접근을 할 때 발생한다."
   ]
  },
  {
   "cell_type": "code",
   "execution_count": 1,
   "metadata": {},
   "outputs": [
    {
     "ename": "IndexError",
     "evalue": "list index out of range",
     "output_type": "error",
     "traceback": [
      "\u001b[1;31m---------------------------------------------------------------------------\u001b[0m",
      "\u001b[1;31mIndexError\u001b[0m                                Traceback (most recent call last)",
      "\u001b[1;32m<ipython-input-1-f96299f5e6bb>\u001b[0m in \u001b[0;36m<module>\u001b[1;34m()\u001b[0m\n\u001b[0;32m      1\u001b[0m \u001b[0ma\u001b[0m\u001b[1;33m=\u001b[0m\u001b[1;33m[\u001b[0m\u001b[1;34m\"apple\"\u001b[0m\u001b[1;33m,\u001b[0m\u001b[1;34m\"car\"\u001b[0m\u001b[1;33m,\u001b[0m\u001b[1;34m\"game\"\u001b[0m\u001b[1;33m]\u001b[0m\u001b[1;33m\u001b[0m\u001b[0m\n\u001b[1;32m----> 2\u001b[1;33m \u001b[0ma\u001b[0m\u001b[1;33m[\u001b[0m\u001b[1;36m4\u001b[0m\u001b[1;33m]\u001b[0m\u001b[1;33m\u001b[0m\u001b[0m\n\u001b[0m",
      "\u001b[1;31mIndexError\u001b[0m: list index out of range"
     ]
    }
   ],
   "source": [
    "a=[\"apple\",\"car\",\"game\"]\n",
    "a[4]"
   ]
  },
  {
   "cell_type": "markdown",
   "metadata": {},
   "source": [
    "### ZeroDivisionError\n",
    "숫자 0으로 나누었을 때 발생하는 에러이다."
   ]
  },
  {
   "cell_type": "code",
   "execution_count": 2,
   "metadata": {},
   "outputs": [
    {
     "ename": "ZeroDivisionError",
     "evalue": "division by zero",
     "output_type": "error",
     "traceback": [
      "\u001b[1;31m---------------------------------------------------------------------------\u001b[0m",
      "\u001b[1;31mZeroDivisionError\u001b[0m                         Traceback (most recent call last)",
      "\u001b[1;32m<ipython-input-2-dee41f0530bc>\u001b[0m in \u001b[0;36m<module>\u001b[1;34m()\u001b[0m\n\u001b[1;32m----> 1\u001b[1;33m \u001b[1;36m9\u001b[0m\u001b[1;33m/\u001b[0m\u001b[1;36m0\u001b[0m\u001b[1;33m\u001b[0m\u001b[0m\n\u001b[0m",
      "\u001b[1;31mZeroDivisionError\u001b[0m: division by zero"
     ]
    }
   ],
   "source": [
    "9/0"
   ]
  },
  {
   "cell_type": "markdown",
   "metadata": {},
   "source": [
    "### SyntaxError\n",
    "구문오류로써 이미 프로그래밍 언어에서 고안해둔 것에 대해서 문제가 발생할 때이다. 주로 괄호를 열었으나 닫지 않은 경우에 발생한다."
   ]
  },
  {
   "cell_type": "code",
   "execution_count": 6,
   "metadata": {},
   "outputs": [
    {
     "ename": "SyntaxError",
     "evalue": "unexpected EOF while parsing (<ipython-input-6-146a83ffe507>, line 2)",
     "output_type": "error",
     "traceback": [
      "\u001b[1;36m  File \u001b[1;32m\"<ipython-input-6-146a83ffe507>\"\u001b[1;36m, line \u001b[1;32m2\u001b[0m\n\u001b[1;33m    print(max(a)\u001b[0m\n\u001b[1;37m                ^\u001b[0m\n\u001b[1;31mSyntaxError\u001b[0m\u001b[1;31m:\u001b[0m unexpected EOF while parsing\n"
     ]
    }
   ],
   "source": [
    "a=[4,1,9]\n",
    "print(max(a)"
   ]
  },
  {
   "cell_type": "markdown",
   "metadata": {},
   "source": [
    "### TypeError\n",
    "연산,함수가 계산할 때 데이터의 유형이 잘못되었을 때 발생한다."
   ]
  },
  {
   "cell_type": "code",
   "execution_count": 7,
   "metadata": {},
   "outputs": [
    {
     "ename": "TypeError",
     "evalue": "unsupported operand type(s) for +: 'int' and 'str'",
     "output_type": "error",
     "traceback": [
      "\u001b[1;31m---------------------------------------------------------------------------\u001b[0m",
      "\u001b[1;31mTypeError\u001b[0m                                 Traceback (most recent call last)",
      "\u001b[1;32m<ipython-input-7-2e45cfd49771>\u001b[0m in \u001b[0;36m<module>\u001b[1;34m()\u001b[0m\n\u001b[0;32m      1\u001b[0m \u001b[0ma\u001b[0m\u001b[1;33m=\u001b[0m\u001b[1;36m7\u001b[0m\u001b[1;33m\u001b[0m\u001b[0m\n\u001b[0;32m      2\u001b[0m \u001b[0mb\u001b[0m\u001b[1;33m=\u001b[0m\u001b[1;34m\"3\"\u001b[0m\u001b[1;33m\u001b[0m\u001b[0m\n\u001b[1;32m----> 3\u001b[1;33m \u001b[0ma\u001b[0m\u001b[1;33m+\u001b[0m\u001b[0mb\u001b[0m\u001b[1;33m\u001b[0m\u001b[0m\n\u001b[0m",
      "\u001b[1;31mTypeError\u001b[0m: unsupported operand type(s) for +: 'int' and 'str'"
     ]
    }
   ],
   "source": [
    "a=7\n",
    "b=\"3\"\n",
    "a+b"
   ]
  },
  {
   "cell_type": "markdown",
   "metadata": {},
   "source": [
    "## 오류 처리하기\n",
    "\n",
    "오류 처리는 try:...except:...과 같이 수행을 한다.<br>\n",
    "try:<br>\n",
    "    ...\n",
    "<br>\n",
    "except (발생오류(as 오류 변수)):<br>\n",
    "    ...\n",
    "<br>\n",
    "우선 try 내부에 있는 코드를 수행하고 이를 수행하다가 오류가 발생하면 except 블록이 수행된다. 하지만 try블록에서 오류가 발생하지 않는다면 except 블록은 수행되지 않는다."
   ]
  },
  {
   "cell_type": "markdown",
   "metadata": {},
   "source": [
    "except 구문을 보면 ()를 사용한 부분이 있는데 그 부분은 생략해도 무관한 부분이다.\n",
    "따라서 except를 사용하는 방법에 따라서 다음과 같이 나뉘어진다."
   ]
  },
  {
   "cell_type": "markdown",
   "metadata": {},
   "source": [
    "### 1. try, except만 있을 경우\n",
    "try에서 오류가 발생한 경우 except로 넘어간다."
   ]
  },
  {
   "cell_type": "code",
   "execution_count": 8,
   "metadata": {},
   "outputs": [
    {
     "name": "stdout",
     "output_type": "stream",
     "text": [
      "2.0\n"
     ]
    }
   ],
   "source": [
    "try:\n",
    "    print(2/0)\n",
    "except:\n",
    "    print(2/1)"
   ]
  },
  {
   "cell_type": "markdown",
   "metadata": {},
   "source": [
    "### 발생오류가 포함되어 있을 경우\n",
    "적어둔 발생오류가 발생했을 경우에만 except문으로 이동한다."
   ]
  },
  {
   "cell_type": "code",
   "execution_count": 9,
   "metadata": {},
   "outputs": [
    {
     "name": "stdout",
     "output_type": "stream",
     "text": [
      "2.0\n"
     ]
    }
   ],
   "source": [
    "try:\n",
    "    print(2/0)\n",
    "except ZeroDivisionError:\n",
    "    print(2/1)"
   ]
  },
  {
   "cell_type": "code",
   "execution_count": 10,
   "metadata": {},
   "outputs": [
    {
     "ename": "ZeroDivisionError",
     "evalue": "division by zero",
     "output_type": "error",
     "traceback": [
      "\u001b[1;31m---------------------------------------------------------------------------\u001b[0m",
      "\u001b[1;31mZeroDivisionError\u001b[0m                         Traceback (most recent call last)",
      "\u001b[1;32m<ipython-input-10-492d266dc4f2>\u001b[0m in \u001b[0;36m<module>\u001b[1;34m()\u001b[0m\n\u001b[0;32m      1\u001b[0m \u001b[1;32mtry\u001b[0m\u001b[1;33m:\u001b[0m\u001b[1;33m\u001b[0m\u001b[0m\n\u001b[1;32m----> 2\u001b[1;33m     \u001b[0mprint\u001b[0m\u001b[1;33m(\u001b[0m\u001b[1;36m2\u001b[0m\u001b[1;33m/\u001b[0m\u001b[1;36m0\u001b[0m\u001b[1;33m)\u001b[0m\u001b[1;33m\u001b[0m\u001b[0m\n\u001b[0m\u001b[0;32m      3\u001b[0m \u001b[1;32mexcept\u001b[0m \u001b[0mIndexError\u001b[0m\u001b[1;33m:\u001b[0m\u001b[1;33m\u001b[0m\u001b[0m\n\u001b[0;32m      4\u001b[0m     \u001b[0mprint\u001b[0m\u001b[1;33m(\u001b[0m\u001b[1;36m2\u001b[0m\u001b[1;33m/\u001b[0m\u001b[1;36m1\u001b[0m\u001b[1;33m)\u001b[0m\u001b[1;33m\u001b[0m\u001b[0m\n",
      "\u001b[1;31mZeroDivisionError\u001b[0m: division by zero"
     ]
    }
   ],
   "source": [
    "try:\n",
    "    print(2/0)\n",
    "except IndexError:\n",
    "    print(2/1)"
   ]
  },
  {
   "cell_type": "markdown",
   "metadata": {
    "collapsed": true
   },
   "source": [
    "### 발생오류와 오류변수까지 적은 경우\n",
    "이러한 경우엔 오류변수에 오류 메세지의 내용이 담겨진다."
   ]
  },
  {
   "cell_type": "code",
   "execution_count": 1,
   "metadata": {},
   "outputs": [
    {
     "name": "stdout",
     "output_type": "stream",
     "text": [
      "division by zero\n"
     ]
    }
   ],
   "source": [
    "try:\n",
    "    4/0\n",
    "except ZeroDivisionError as e:\n",
    "    print(e)"
   ]
  },
  {
   "cell_type": "markdown",
   "metadata": {},
   "source": [
    "1. try finally\n",
    "2. 오류 여러개\n",
    "3. 오류 일부러 발생"
   ]
  },
  {
   "cell_type": "markdown",
   "metadata": {
    "collapsed": true
   },
   "source": [
    "## Try,Finally\n",
    "\n",
    "try문은 finally를 사용할 수 있는데 finally는 try문 수행 도중 예외 상황이 발생하지 않더라도 항상 수행된다. 보통 파일을 오픈 한것을 다시 닫아야 할 때 사용한다."
   ]
  },
  {
   "cell_type": "code",
   "execution_count": 1,
   "metadata": {},
   "outputs": [
    {
     "name": "stdout",
     "output_type": "stream",
     "text": [
      "오류가 발생해도 안발생해도 괜찮습니다.\n",
      "들어왔습니까?\n"
     ]
    }
   ],
   "source": [
    "f=open(\"finally.txt\",\"w\")\n",
    "try:\n",
    "    print(\"오류가 발생해도 안발생해도 괜찮습니다.\")\n",
    "finally:\n",
    "    print(\"들어왔습니까?\")\n",
    "    f.close()"
   ]
  },
  {
   "cell_type": "markdown",
   "metadata": {},
   "source": [
    "## 오류가 여러개 발생했을 경우\n",
    "오류를 여러개 처리해주려고 할 경우 단순히 except를 여러 개 사용하는 것이 아니라 튜플로 묶어서 처리해줘야 한다.<br>\n",
    "아래와 같은 경우 인덱스 에러가 먼저 발생해서 ZeroDivisionError에 들어가지 않는다."
   ]
  },
  {
   "cell_type": "code",
   "execution_count": 2,
   "metadata": {},
   "outputs": [
    {
     "name": "stdout",
     "output_type": "stream",
     "text": [
      "접근 못하는 인덱스입니다.\n"
     ]
    }
   ],
   "source": [
    "try:\n",
    "    a=[1,2,3,4,5]\n",
    "    print(a[6])\n",
    "    print(4/0)\n",
    "except ZeroDivisionError:\n",
    "    print(\"0으론 못나눠요\")\n",
    "except IndexError:\n",
    "    print(\"접근 못하는 인덱스입니다.\")"
   ]
  },
  {
   "cell_type": "code",
   "execution_count": 3,
   "metadata": {},
   "outputs": [
    {
     "name": "stdout",
     "output_type": "stream",
     "text": [
      "0으론 못나눠요\n",
      "인덱스밖으론 접근 못해요\n"
     ]
    }
   ],
   "source": [
    "try:\n",
    "    a=[1,2,3,4,5]\n",
    "    print(a[6])\n",
    "    print(4/0)\n",
    "except (ZeroDivisionError,IndexError):\n",
    "    print(\"0으론 못나눠요\")\n",
    "    print(\"인덱스밖으론 접근 못해요\")"
   ]
  },
  {
   "cell_type": "markdown",
   "metadata": {},
   "source": [
    "## 오류를 일부러 발생시킬 경우\n",
    "오류를 일부러 발생시키는 것이 이상하게 들릴 수 있지만 종종 필요한 경우가 있다. 파이썬에서는 raise라는 명령어를 사용해서 오류를 강제로 발생시킬 수 있다.<br>\n",
    "예를 들어 프로그램을 만들다가 아직 구현하지 못한 함수가 있는데 추후에 다시 사용해야할 때 오류를 발생시키고자 한다."
   ]
  },
  {
   "cell_type": "code",
   "execution_count": 4,
   "metadata": {
    "collapsed": true
   },
   "outputs": [],
   "source": [
    "def yet(n):\n",
    "    answer=0\n",
    "    for i in range(n):\n",
    "        answer+=i\n",
    "    raise NotImplementedError"
   ]
  },
  {
   "cell_type": "markdown",
   "metadata": {},
   "source": [
    "NotImplementedError는 파이썬 내장 오류로, 작성해야 하는 부분이 구현되지 않았을 경우 일부러 오류를 발생시키고자 할 때 사용한다."
   ]
  },
  {
   "cell_type": "code",
   "execution_count": 5,
   "metadata": {},
   "outputs": [
    {
     "ename": "NotImplementedError",
     "evalue": "",
     "output_type": "error",
     "traceback": [
      "\u001b[1;31m---------------------------------------------------------------------------\u001b[0m",
      "\u001b[1;31mNotImplementedError\u001b[0m                       Traceback (most recent call last)",
      "\u001b[1;32m<ipython-input-5-f0bf02656574>\u001b[0m in \u001b[0;36m<module>\u001b[1;34m()\u001b[0m\n\u001b[1;32m----> 1\u001b[1;33m \u001b[0myet\u001b[0m\u001b[1;33m(\u001b[0m\u001b[1;36m7\u001b[0m\u001b[1;33m)\u001b[0m\u001b[1;33m\u001b[0m\u001b[0m\n\u001b[0m",
      "\u001b[1;32m<ipython-input-4-03a9f978b843>\u001b[0m in \u001b[0;36myet\u001b[1;34m(n)\u001b[0m\n\u001b[0;32m      3\u001b[0m     \u001b[1;32mfor\u001b[0m \u001b[0mi\u001b[0m \u001b[1;32min\u001b[0m \u001b[0mrange\u001b[0m\u001b[1;33m(\u001b[0m\u001b[0mn\u001b[0m\u001b[1;33m)\u001b[0m\u001b[1;33m:\u001b[0m\u001b[1;33m\u001b[0m\u001b[0m\n\u001b[0;32m      4\u001b[0m         \u001b[0manswer\u001b[0m\u001b[1;33m+=\u001b[0m\u001b[0mi\u001b[0m\u001b[1;33m\u001b[0m\u001b[0m\n\u001b[1;32m----> 5\u001b[1;33m     \u001b[1;32mraise\u001b[0m \u001b[0mNotImplementedError\u001b[0m\u001b[1;33m\u001b[0m\u001b[0m\n\u001b[0m",
      "\u001b[1;31mNotImplementedError\u001b[0m: "
     ]
    }
   ],
   "source": [
    "yet(7)"
   ]
  },
  {
   "cell_type": "markdown",
   "metadata": {
    "collapsed": true
   },
   "source": [
    "## 사용자 정의 에러\n",
    "\n",
    "python에서 기본적으로 제공해주는 에러가 아닌, 사용자가 새로 에러를 정의할 수 있다."
   ]
  },
  {
   "cell_type": "code",
   "execution_count": 1,
   "metadata": {},
   "outputs": [
    {
     "name": "stdout",
     "output_type": "stream",
     "text": [
      "한 자리 숫자 나누기 전용 계산기입니다.\n",
      "첫 번째 숫자를 입력하세요 : 10\n",
      "두 번째 숫자를 입력하세요 : 1\n",
      "잘못된 값을 입력했습니다.\n"
     ]
    }
   ],
   "source": [
    "class BigNumberError(Exception):\n",
    "    pass\n",
    "\n",
    "try:\n",
    "    print(\"한 자리 숫자 나누기 전용 계산기입니다.\")\n",
    "    num1 = int(input(\"첫 번째 숫자를 입력하세요 : \"))\n",
    "    num2 = int(input(\"두 번째 숫자를 입력하세요 : \"))\n",
    "    if num1 >= 10 or num2 >= 10:\n",
    "        raise BigNumberError\n",
    "    print(\"{0} / {1} = {2}\".format(num1, num2, int(num1 / num2)))\n",
    "except BigNumberError:\n",
    "    print(\"잘못된 값을 입력했습니다.\")"
   ]
  },
  {
   "cell_type": "code",
   "execution_count": 3,
   "metadata": {},
   "outputs": [
    {
     "name": "stdout",
     "output_type": "stream",
     "text": [
      "한 자리 숫자 나누기 전용 계산기입니다.\n",
      "첫 번째 숫자를 입력하세요 : 10\n",
      "두 번째 숫자를 입력하세요 : 4\n",
      "잘못된 값을 입력했습니다.\n",
      "입력값 : 10 4\n"
     ]
    }
   ],
   "source": [
    "class BigNumberError(Exception):\n",
    "    def __init__(self,msg):\n",
    "        self.msg = msg\n",
    "    \n",
    "    def __str__(self):\n",
    "        return self.msg\n",
    "\n",
    "try:\n",
    "    print(\"한 자리 숫자 나누기 전용 계산기입니다.\")\n",
    "    num1 = int(input(\"첫 번째 숫자를 입력하세요 : \"))\n",
    "    num2 = int(input(\"두 번째 숫자를 입력하세요 : \"))\n",
    "    if num1 >= 10 or num2 >= 10:\n",
    "        raise BigNumberError(\"입력값 : {0} {1}\".format(num1, num2))\n",
    "    print(\"{0} / {1} = {2}\".format(num1, num2, int(num1 / num2)))\n",
    "except BigNumberError as err:\n",
    "    print(\"잘못된 값을 입력했습니다.\")\n",
    "    print(err)"
   ]
  },
  {
   "cell_type": "markdown",
   "metadata": {},
   "source": [
    "### Quiz\n",
    "\n",
    "연남동에서는 항상 대기 손님이 있는 맛있는 연어집이 있습니다.<br>\n",
    "대기 손님의 요리 시간을 줄이고자 자동 주문 시스템을 제작하였습니다.<br>\n",
    "시스템 코드를 확인하고 적절한 예외처리 구문을 넣으시오.<br>\n",
    "\n",
    "조건 1: 1보다 작거나 숫자가 아닌 입력값이 들어올 때는 ValueError로 처리<br>\n",
    "-> 출력메세지 : \"잘못된 값을 입력했습니다.\"<br>\n",
    "\n",
    "조건 2: 대기 손님들이 주문할 수 있는 총 연어의 갯수는 **10개로** 한정<br>\n",
    "재료 소진시 사용자 정의 에러[SoldOutError]를 발생시키고 프로그램 종료<br>\n",
    "-> 출력메세지 : \"재고가 소진되어 더 이상 주문을 받지 않습니다.\"<br>\n"
   ]
  },
  {
   "cell_type": "code",
   "execution_count": null,
   "metadata": {},
   "outputs": [],
   "source": [
    "salmon = 10\n",
    "wating = 1\n",
    "while True:\n",
    "    print(\"[남은 연어 : {}]\".format(salmon))\n",
    "    order = int(input(\"연어 요리 몇개를 주문하시겠습니까?\"))\n",
    "    if order > salmon:\n",
    "        print(\"재료가 부족합니다.\")\n",
    "    else:\n",
    "        print(\"[대기번호 : {0}] {1} 개 주문이 완료되었습니다.\".format(wating,order))\n",
    "        wating += 1\n",
    "        salmon -= order"
   ]
  },
  {
   "cell_type": "code",
   "execution_count": null,
   "metadata": {},
   "outputs": [],
   "source": []
  }
 ],
 "metadata": {
  "kernelspec": {
   "display_name": "Python 3",
   "language": "python",
   "name": "python3"
  },
  "language_info": {
   "codemirror_mode": {
    "name": "ipython",
    "version": 3
   },
   "file_extension": ".py",
   "mimetype": "text/x-python",
   "name": "python",
   "nbconvert_exporter": "python",
   "pygments_lexer": "ipython3",
   "version": "3.7.3"
  }
 },
 "nbformat": 4,
 "nbformat_minor": 2
}
