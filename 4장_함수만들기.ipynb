{
 "cells": [
  {
   "cell_type": "markdown",
   "metadata": {},
   "source": [
    "###### def\n",
    "\n",
    "1. 함수란 무엇일까? 왜 사용\n",
    "2. 기본적인 구조       \n",
    "3. 입력값과 결과값에 따른 함수의 형태\n",
    "4. 입력값이 몇 개가 될지 모를 때\n",
    "5. return의 쓰임새\n",
    "6. 초깃값설정\n",
    "7. global, local\n",
    "9. print()의 기능\n",
    "10. lambda 함수"
   ]
  },
  {
   "cell_type": "markdown",
   "metadata": {},
   "source": [
    "### 함수란 무엇이고 왜 사용할까?\n",
    "\n",
    "수학에서의 함수는 f(x)=x^2 와 같이 만들고, f(2)=4 와 같이 활용하였다. 여기서 f(x)는 함수가 되고, x^2은 함수의 내용, 2는 입력값, 4는 결과값이라고 생각하면 된다. 이처럼 프로그래밍에서도 함수를 만들어서 사용한다.\n",
    "\n",
    "물론 프로그래밍에서 수학연산을 하기 위해 함수를 만드는 것은 아니다. 프로그래밍을 하다가 보면 반복적으로 똑같은 작업을 해야 할 경우가 있을 것이다. 이 작업을 줄이고자 의미가 있는 부분들을 묶어서 함수로 만드는 것이다. 보통 함수를 '입력값을 넣으면 출력값이 나온다' 와 같은 방법으로 만든다."
   ]
  },
  {
   "cell_type": "markdown",
   "metadata": {},
   "source": [
    "### 함수의 구조\n",
    "\n",
    "파이썬 함수의 구조는 다음과 같다.\n",
    "\n",
    "def 함수명(매개변수):\n",
    "\n",
    "    <수행할 문장들>\n",
    "    \n",
    "def는 함수를 만들겠다는 예약어이며 함수명, 매개변수, 수행할 문장들은 사용자가 임의로 작성하는 것이다. 조건문과 반복문처럼 함수의 속하는 부분임을 나타내기 위해서 들여쓰기를 사용한다.\n",
    "\n",
    "다음은 함수의 간단한 예시이다."
   ]
  },
  {
   "cell_type": "code",
   "execution_count": 10,
   "metadata": {
    "collapsed": true
   },
   "outputs": [],
   "source": [
    "def add(x,y):\n",
    "    return x+y"
   ]
  },
  {
   "cell_type": "markdown",
   "metadata": {},
   "source": [
    "여기서 return은 함수의 결과값을 반환해주는 명령어이다.\n",
    "\n",
    "이 함수는 두 개의 변수 x,y를 받아서 두 개의 합을 반환해주는 함수인 것이다."
   ]
  },
  {
   "cell_type": "code",
   "execution_count": 12,
   "metadata": {},
   "outputs": [
    {
     "name": "stdout",
     "output_type": "stream",
     "text": [
      "4\n"
     ]
    }
   ],
   "source": [
    "summation=add(1,3)\n",
    "print(summation)"
   ]
  },
  {
   "cell_type": "markdown",
   "metadata": {},
   "source": [
    "위 함수의 구조는 입력값이 있고, 결과값이 있는 일반적인 구조이다.\n",
    "\n",
    "만약 입력값이 없거나, 결과값이 없는 함수의 구조도 가능할까??"
   ]
  },
  {
   "cell_type": "code",
   "execution_count": 13,
   "metadata": {},
   "outputs": [
    {
     "name": "stdout",
     "output_type": "stream",
     "text": [
      "가능합니다\n"
     ]
    }
   ],
   "source": [
    "#입력값이 없는 함수\n",
    "def example1():\n",
    "    return \"가능합니다\"\n",
    "a=example1()\n",
    "print(a)"
   ]
  },
  {
   "cell_type": "code",
   "execution_count": 17,
   "metadata": {},
   "outputs": [
    {
     "name": "stdout",
     "output_type": "stream",
     "text": [
      "7를 정상적으로 받았습니다.\n"
     ]
    }
   ],
   "source": [
    "#결과값이 없는 함수\n",
    "def example2(a):\n",
    "    print(str(a)+\"를 정상적으로 받았습니다.\")\n",
    "\n",
    "#a에 int 값을 넣으면 오류가 발생한다. 이를 위해 str()함수 사용\n",
    "example2(7)"
   ]
  },
  {
   "cell_type": "code",
   "execution_count": 19,
   "metadata": {},
   "outputs": [
    {
     "name": "stdout",
     "output_type": "stream",
     "text": [
      "Hello Python!\n"
     ]
    }
   ],
   "source": [
    "#입력값, 결과값 둘다 없는 함수\n",
    "def example3():\n",
    "    print(\"Hello Python!\")\n",
    "example3()"
   ]
  },
  {
   "cell_type": "markdown",
   "metadata": {},
   "source": [
    "### 만약 입력값이 몇 개가 될지 모를 경우\n",
    "\n",
    "입력값이 여러 개일 때 그 입력값을 다 더해주는 함수를 만들어보자. 하지만 몇 개가 입력될지 모른다면 어떻게 해야할까?\n",
    "\n",
    "다음과 같이 사람의 이름, 나이 그리고 사용할 수 있는 언어들을 입력받아 출력해주는 함수가 있다고 하자."
   ]
  },
  {
   "cell_type": "code",
   "execution_count": 2,
   "metadata": {},
   "outputs": [],
   "source": [
    "def profile(name,age,lan1,lan2,lan3,lan4):\n",
    "    print(\"이름 : {0}\\t나이: {1}\\t\".format(name,age),end=\" \")\n",
    "    print(lan1,lan2,lan3,lan4)"
   ]
  },
  {
   "cell_type": "code",
   "execution_count": 3,
   "metadata": {},
   "outputs": [
    {
     "name": "stdout",
     "output_type": "stream",
     "text": [
      "이름 : 김철수\t나이: 27\t Ptyhon C++ JAVA C\n",
      "이름 : 김영희\t나이: 27\t C++ bash    \n"
     ]
    },
    {
     "ename": "TypeError",
     "evalue": "profile() takes 6 positional arguments but 8 were given",
     "output_type": "error",
     "traceback": [
      "\u001b[1;31m---------------------------------------------------------------------------\u001b[0m",
      "\u001b[1;31mTypeError\u001b[0m                                 Traceback (most recent call last)",
      "\u001b[1;32m<ipython-input-3-f3e6a67f0887>\u001b[0m in \u001b[0;36m<module>\u001b[1;34m\u001b[0m\n\u001b[0;32m      1\u001b[0m \u001b[0mprofile\u001b[0m\u001b[1;33m(\u001b[0m\u001b[1;34m\"김철수\"\u001b[0m\u001b[1;33m,\u001b[0m\u001b[1;36m27\u001b[0m\u001b[1;33m,\u001b[0m\u001b[1;34m\"Ptyhon\"\u001b[0m\u001b[1;33m,\u001b[0m\u001b[1;34m\"C++\"\u001b[0m\u001b[1;33m,\u001b[0m\u001b[1;34m\"JAVA\"\u001b[0m\u001b[1;33m,\u001b[0m\u001b[1;34m\"C\"\u001b[0m\u001b[1;33m)\u001b[0m\u001b[1;33m\u001b[0m\u001b[1;33m\u001b[0m\u001b[0m\n\u001b[0;32m      2\u001b[0m \u001b[0mprofile\u001b[0m\u001b[1;33m(\u001b[0m\u001b[1;34m\"김영희\"\u001b[0m\u001b[1;33m,\u001b[0m\u001b[1;36m27\u001b[0m\u001b[1;33m,\u001b[0m\u001b[1;34m\"C++\"\u001b[0m\u001b[1;33m,\u001b[0m\u001b[1;34m\"bash\"\u001b[0m\u001b[1;33m,\u001b[0m\u001b[1;34m\" \"\u001b[0m\u001b[1;33m,\u001b[0m\u001b[1;34m\" \"\u001b[0m\u001b[1;33m)\u001b[0m\u001b[1;33m\u001b[0m\u001b[1;33m\u001b[0m\u001b[0m\n\u001b[1;32m----> 3\u001b[1;33m \u001b[0mprofile\u001b[0m\u001b[1;33m(\u001b[0m\u001b[1;34m\"박영미\"\u001b[0m\u001b[1;33m,\u001b[0m\u001b[1;36m27\u001b[0m\u001b[1;33m,\u001b[0m\u001b[1;34m\"Python\"\u001b[0m\u001b[1;33m,\u001b[0m\u001b[1;34m\"C++\"\u001b[0m\u001b[1;33m,\u001b[0m\u001b[1;34m\"C\"\u001b[0m\u001b[1;33m,\u001b[0m\u001b[1;34m\"JAVA\"\u001b[0m\u001b[1;33m,\u001b[0m\u001b[1;34m\"Kotlin\"\u001b[0m\u001b[1;33m,\u001b[0m\u001b[1;34m\"Swift\"\u001b[0m\u001b[1;33m)\u001b[0m\u001b[1;31m# 더 많으면 재정의가 필요!\u001b[0m\u001b[1;33m\u001b[0m\u001b[1;33m\u001b[0m\u001b[0m\n\u001b[0m",
      "\u001b[1;31mTypeError\u001b[0m: profile() takes 6 positional arguments but 8 were given"
     ]
    }
   ],
   "source": [
    "profile(\"김철수\",27,\"Ptyhon\",\"C++\",\"JAVA\",\"C\")\n",
    "profile(\"김영희\",27,\"C++\",\"bash\",\" \",\" \")\n",
    "profile(\"박영미\",27,\"Python\",\"C++\",\"C\",\"JAVA\",\"Kotlin\",\"Swift\")# 더 많으면 재정의가 필요!"
   ]
  },
  {
   "cell_type": "markdown",
   "metadata": {},
   "source": [
    " 이와 같은 경우에는 * 를 사용하면 된다."
   ]
  },
  {
   "cell_type": "code",
   "execution_count": 4,
   "metadata": {},
   "outputs": [],
   "source": [
    "def profile(name,age,*language):\n",
    "    print(\"이름 : {0}\\t나이: {1}\\t\".format(name,age),end=\" \")\n",
    "    for lan in language:\n",
    "        print(lan, end= \" \")\n",
    "    print()"
   ]
  },
  {
   "cell_type": "code",
   "execution_count": 5,
   "metadata": {},
   "outputs": [
    {
     "name": "stdout",
     "output_type": "stream",
     "text": [
      "이름 : 김철수\t나이: 27\t Ptyhon C++ JAVA C \n",
      "이름 : 김영희\t나이: 27\t C++ bash \n",
      "이름 : 박영미\t나이: 27\t Python C++ C JAVA Kotlin Swift \n"
     ]
    }
   ],
   "source": [
    "profile(\"김철수\",27,\"Ptyhon\",\"C++\",\"JAVA\",\"C\")\n",
    "profile(\"김영희\",27,\"C++\",\"bash\")\n",
    "profile(\"박영미\",27,\"Python\",\"C++\",\"C\",\"JAVA\",\"Kotlin\",\"Swift\")"
   ]
  },
  {
   "cell_type": "markdown",
   "metadata": {},
   "source": [
    "매개변수 앞에  *  를 사용하면 몇 개가 들어가던지, 전부 모아서 튜플로 바꾸어주기 때문에 상관이 없다.\n",
    "\n",
    "*매개변수는 단독으로 사용하는 것 이외에도 다른 일반 변수와도 함께 사용가능하다."
   ]
  },
  {
   "cell_type": "markdown",
   "metadata": {},
   "source": [
    "### return\n",
    "\n",
    "return은 함수값을 반환해주는 명령어로써 사용한다면 하나의 함수에서 한 개만 사용이 된다. 이 점을 이용해서 함수를 끝내는 용도로 사용할 수 있다."
   ]
  },
  {
   "cell_type": "code",
   "execution_count": 1,
   "metadata": {
    "collapsed": true
   },
   "outputs": [],
   "source": [
    "def finish(number):\n",
    "    if number==5:\n",
    "        return\n",
    "        print(number)\n",
    "    print(number)"
   ]
  },
  {
   "cell_type": "code",
   "execution_count": 2,
   "metadata": {
    "scrolled": true
   },
   "outputs": [
    {
     "name": "stdout",
     "output_type": "stream",
     "text": [
      "4\n"
     ]
    }
   ],
   "source": [
    "finish(4)"
   ]
  },
  {
   "cell_type": "code",
   "execution_count": 3,
   "metadata": {
    "collapsed": true
   },
   "outputs": [],
   "source": [
    "finish(5)"
   ]
  },
  {
   "cell_type": "markdown",
   "metadata": {
    "collapsed": true
   },
   "source": [
    "### 초기값을 미리 설정해둘 경우\n",
    "\n",
    "함수의 매개변수에 미리 초기값을 정해둘 수 있다. 초기값을 정해둔 함수의 경우 함수를 사용할 때 그 값을 넣어 주지 않으면 미리 정해진 값을 넣어서 함수를 실행한다. 만약 초기값을 무시하고 값을 넣어준다면 초기값이 아닌 내가 설정한 값으로 함수를 실행한다."
   ]
  },
  {
   "cell_type": "code",
   "execution_count": 3,
   "metadata": {},
   "outputs": [
    {
     "name": "stdout",
     "output_type": "stream",
     "text": [
      "6\n",
      "8\n"
     ]
    }
   ],
   "source": [
    "def add_many(a,b,c=3):\n",
    "    return a+b+c\n",
    "d=add_many(1,2)\n",
    "e=add_many(1,2,5)\n",
    "print(d)\n",
    "print(e)"
   ]
  },
  {
   "cell_type": "markdown",
   "metadata": {},
   "source": [
    "### Global, local\n",
    "\n",
    "함수내에서 사용되는 변수의 성격은 local이라고 할 수 있다. 즉 함수내 정의되어 있는 변수는 함수 외부에는 영향을 주지 않는다는 것이다.\n",
    "다음을 보면 함수 밖에 있는 number가 1로 정의 되어 있고 함수를 통해 number가 2배로 증가 되었을 것 같지만 그렇지 않다."
   ]
  },
  {
   "cell_type": "code",
   "execution_count": 4,
   "metadata": {},
   "outputs": [
    {
     "name": "stdout",
     "output_type": "stream",
     "text": [
      "1\n"
     ]
    }
   ],
   "source": [
    "number=1\n",
    "def double(number):\n",
    "    number=number*2\n",
    "double(number)\n",
    "print(number)"
   ]
  },
  {
   "cell_type": "markdown",
   "metadata": {},
   "source": [
    "우리가 정의한 number는 함수 외부의 정의이고 함수 내부에서 2배를 해준 number는 단지 함수 내에서만 사용하는 변수이지 밖의 number에는 영향을 주지 못한다는 것이다.\n",
    "\n",
    "만약 함수 내부의 변수를 외부에 영향을 주려면 어떻게 해야 할까??\n",
    "\n",
    "\n",
    "다음 두 가지 방법이 있다.\n",
    "#### return\n",
    "우리가 지금까지 외부의 변수에 영향을 줄 수 있던 이유는 return을 사용했기 때문이었다."
   ]
  },
  {
   "cell_type": "code",
   "execution_count": 5,
   "metadata": {},
   "outputs": [
    {
     "name": "stdout",
     "output_type": "stream",
     "text": [
      "2\n"
     ]
    }
   ],
   "source": [
    "number=1\n",
    "def double(number):\n",
    "    number=number*2\n",
    "    return number\n",
    "number=double(number)\n",
    "print(number)"
   ]
  },
  {
   "cell_type": "markdown",
   "metadata": {},
   "source": [
    "#### Global\n",
    "이 방법은 외부의 변수를 global이라고 재정의를 해서 직접 외부의 변수를 사용하겠다고 명시를 하는 것이다."
   ]
  },
  {
   "cell_type": "code",
   "execution_count": 8,
   "metadata": {},
   "outputs": [
    {
     "name": "stdout",
     "output_type": "stream",
     "text": [
      "2\n"
     ]
    }
   ],
   "source": [
    "number=1\n",
    "def double():\n",
    "    global number\n",
    "    number=number*2\n",
    "double()\n",
    "print(number)"
   ]
  },
  {
   "cell_type": "markdown",
   "metadata": {},
   "source": [
    "보통 global이라고 명시를 하기 보단 return을 사용한 방법을 이용한다."
   ]
  },
  {
   "cell_type": "markdown",
   "metadata": {},
   "source": [
    "## Print\n",
    "\n",
    "지금까지 출력하는 함수인 print를 별다른 말 없이 계속 사용했었다. print 내에서도 여러 기능을 제공한다.\n",
    "\n",
    "print(value,....,sep='                   ',end='\\n',file=sys.stdout, flush=False)\n",
    "\n",
    "로 print 함수가 구성되어 있는데 보통 sep이나 end까지만 사용하고 file이나 flush는 사용하지 않는다."
   ]
  },
  {
   "cell_type": "markdown",
   "metadata": {},
   "source": [
    "print 내에서 여러 문자열을 + 로 이어가거나 콤마(,)를 사용해서 출력한다. 이 둘의 차이 점은 + 은 띄어쓰기를 지원해주지 않지만 콤마로 구분을 하면 띄어쓰기를 해주기 때문이다. 이 이유는 sep이 공백으로 설정되어 있기 때문이다."
   ]
  },
  {
   "cell_type": "code",
   "execution_count": 12,
   "metadata": {},
   "outputs": [
    {
     "name": "stdout",
     "output_type": "stream",
     "text": [
      "Hello!Mynameispython\n",
      "Hello! My name is python\n"
     ]
    }
   ],
   "source": [
    "print(\"Hello!\"+\"My\"+\"name\"+\"is\"+\"python\")\n",
    "print(\"Hello!\",\"My\",\"name\",\"is\",\"python\")"
   ]
  },
  {
   "cell_type": "markdown",
   "metadata": {},
   "source": [
    "위에서도 말했듯이 콤마가 sep이 공백으로 설정되어 있기 때문에 띄어쓰기를 했다면 sep값을 주면 콤마를 사용했을 때 그 사이사이세 sep이 들어 가게 된다."
   ]
  },
  {
   "cell_type": "code",
   "execution_count": 13,
   "metadata": {},
   "outputs": [
    {
     "name": "stdout",
     "output_type": "stream",
     "text": [
      "Hello!----My----name----is----python\n"
     ]
    }
   ],
   "source": [
    "print(\"Hello!\",\"My\",\"name\",\"is\",\"python\",sep=\"----\")"
   ]
  },
  {
   "cell_type": "markdown",
   "metadata": {},
   "source": [
    "또한 출력을 하면 매 줄에 하나씩 나오게 되는데 한 줄에 모든 값이 나오게 하도록 하고 싶으면 end 값을 공백으로 설정해주면 된다. 기본값은 엔터값이다."
   ]
  },
  {
   "cell_type": "code",
   "execution_count": 15,
   "metadata": {},
   "outputs": [
    {
     "name": "stdout",
     "output_type": "stream",
     "text": [
      "0\n",
      "1\n",
      "2\n",
      "3\n",
      "4\n",
      "5\n",
      "6\n",
      "7\n",
      "8\n",
      "9\n"
     ]
    }
   ],
   "source": [
    "for i in range(10):\n",
    "    print(i)"
   ]
  },
  {
   "cell_type": "code",
   "execution_count": 14,
   "metadata": {},
   "outputs": [
    {
     "name": "stdout",
     "output_type": "stream",
     "text": [
      "0 1 2 3 4 5 6 7 8 9 "
     ]
    }
   ],
   "source": [
    "for i in range(10):\n",
    "    print(i,end=\" \")"
   ]
  },
  {
   "cell_type": "markdown",
   "metadata": {},
   "source": [
    "#### ljust, rjust\n",
    "\n",
    "ljust와 rjust는 print를 할 때, 일정한 공간을 만들어두고 각각 왼쪽 정렬, 오른쪽 정렬을 해주는 기능을 가지고 있다."
   ]
  },
  {
   "cell_type": "code",
   "execution_count": 13,
   "metadata": {},
   "outputs": [
    {
     "name": "stdout",
     "output_type": "stream",
     "text": [
      "수학 0\n",
      "영어 50\n",
      "국어 100\n"
     ]
    }
   ],
   "source": [
    "scores = {\"수학\" : 0, \"영어\" : 50, \"국어\" : 100}\n",
    "for subject, score in scores.items():\n",
    "    print(subject,score)"
   ]
  },
  {
   "cell_type": "markdown",
   "metadata": {},
   "source": [
    "이를 ljust와 rjust를 사용해서 깔끔하게 만들어보자"
   ]
  },
  {
   "cell_type": "code",
   "execution_count": 16,
   "metadata": {},
   "outputs": [
    {
     "name": "stdout",
     "output_type": "stream",
     "text": [
      "수학      :   0\n",
      "영어      :  50\n",
      "국어      : 100\n"
     ]
    }
   ],
   "source": [
    "scores = {\"수학\" : 0, \"영어\" : 50, \"국어\" : 100}\n",
    "for subject, score in scores.items():\n",
    "    print(subject.ljust(8),str(score).rjust(4),sep=\":\")"
   ]
  },
  {
   "cell_type": "markdown",
   "metadata": {},
   "source": [
    "#### zfill\n",
    "\n",
    "위와 비슷하게 정렬을 하는 것이 아닌 특정한 값으로 가득채우는 기능을 한다."
   ]
  },
  {
   "cell_type": "code",
   "execution_count": 17,
   "metadata": {},
   "outputs": [
    {
     "name": "stdout",
     "output_type": "stream",
     "text": [
      "사용번호 : 001\n",
      "사용번호 : 002\n",
      "사용번호 : 003\n",
      "사용번호 : 004\n",
      "사용번호 : 005\n",
      "사용번호 : 006\n",
      "사용번호 : 007\n",
      "사용번호 : 008\n",
      "사용번호 : 009\n",
      "사용번호 : 010\n",
      "사용번호 : 011\n",
      "사용번호 : 012\n",
      "사용번호 : 013\n",
      "사용번호 : 014\n",
      "사용번호 : 015\n",
      "사용번호 : 016\n",
      "사용번호 : 017\n",
      "사용번호 : 018\n",
      "사용번호 : 019\n",
      "사용번호 : 020\n"
     ]
    }
   ],
   "source": [
    "for num in range(1,21):\n",
    "    print(\"사용번호 : \" + str(num).zfill(3))"
   ]
  },
  {
   "cell_type": "markdown",
   "metadata": {
    "collapsed": true
   },
   "source": [
    "### Quiz 1\n",
    "\n",
    "다음과 같은 4개의 함수를 정의하시오.\n",
    "\n",
    " 1. pow_div(x,y,z) x의 y승을 z로 나눈 값을 출력\n",
    " 2. mult_module(x,y,z) x와 y를 곱한 값을 z로 나눴을 때의 나머지 출력\n",
    " 3. add_idiv(x,y,z): x와 y를 더한 값을 z로 나눴을 때의 몫 출력\n",
    " 4. mult_pow(x,y,z): x와 y를 곱한 값의 z승을 출력"
   ]
  },
  {
   "cell_type": "code",
   "execution_count": null,
   "metadata": {},
   "outputs": [],
   "source": []
  },
  {
   "cell_type": "markdown",
   "metadata": {},
   "source": [
    "## lambda 함수\n",
    "\n",
    "익명함수, 이름이 없는 함수, 1회용 함수라고 불리는 것이 lambda 함수다.<br>\n",
    "일반적으로 함수는 재사용을 하기 위해 정의를 하는데, 함수는 재사용하기 위해서 메모리에 적재를 해둬야 한다.<br>\n",
    "하지만 한번만 사용하고 다시 쓰지 않을 함수라면?<br>\n",
    "함수로 정의할 만큼 복잡하지 않은 단순한 함수라면?<br>\n",
    "\n",
    "람다함수는 계산식 형태로 되어있어서 람다 표현식(lambda expression)이라고 부른다. 주로 다른 함수들의 인수를 넘겨줄때 많이 사용한다.\n",
    "\n",
    "따라서 람다 함수는 다음과 같은 이유로 주로 사용한다.\n",
    "1. 메모리를 효율적으로 관리하고 싶을때\n",
    "2. 한번만 실행하면 될떄\n",
    "3. 멋있게 쓰고싶을때ㅎ"
   ]
  },
  {
   "cell_type": "code",
   "execution_count": 1,
   "metadata": {},
   "outputs": [
    {
     "data": {
      "text/plain": [
       "<function __main__.<lambda>(a, b)>"
      ]
     },
     "execution_count": 1,
     "metadata": {},
     "output_type": "execute_result"
    }
   ],
   "source": [
    "def add(a,b):\n",
    "    return a+b\n",
    "\n",
    "lambda a,b:a+b"
   ]
  },
  {
   "cell_type": "markdown",
   "metadata": {},
   "source": [
    "lambda 인자1,인자2,인자3,...:표현식(리턴값)\n",
    "\n",
    "과 같은 방법으로 사용한다.\n",
    "\n",
    "특히 람다는 map,filter,reduce, sort등의 함수와 결합하여 사용하면 엄청난 이점을 가진다."
   ]
  },
  {
   "cell_type": "markdown",
   "metadata": {},
   "source": [
    "#### map\n",
    "\n",
    "map(f,iterable)로 함수와 iterable한 객체를 받는다. map은 filter와 비슷한 역할을 하지만 iterable의 각 요소에 함수 f에 의해 수행된 결과를 묶어서 반환을 한다."
   ]
  },
  {
   "cell_type": "code",
   "execution_count": 2,
   "metadata": {},
   "outputs": [
    {
     "name": "stdout",
     "output_type": "stream",
     "text": [
      "[2, 4, 6, 8, 10]\n"
     ]
    }
   ],
   "source": [
    "some_list = [1,2,3,4,5]\n",
    "result = list(map(lambda x:x*2,some_list))\n",
    "print(result)"
   ]
  },
  {
   "cell_type": "markdown",
   "metadata": {},
   "source": [
    "### sort key\n",
    "람다함수는 sort의 key 옵션에도 많이 사용한다."
   ]
  },
  {
   "cell_type": "code",
   "execution_count": 1,
   "metadata": {},
   "outputs": [
    {
     "name": "stdout",
     "output_type": "stream",
     "text": [
      "['Huijun', 'Jieun', 'Jungsoo', 'Juyeon', 'Kyeonghun', 'Shengmin']\n"
     ]
    }
   ],
   "source": [
    "name = [\"Kyeonghun\",\"Juyeon\",\"Huijun\",\"Jieun\",\"Jungsoo\",\"Shengmin\"]\n",
    "\n",
    "print(sorted(name))"
   ]
  },
  {
   "cell_type": "markdown",
   "metadata": {},
   "source": [
    "1. 만약 문자열의 길이순으로 정렬하고 싶다면?\n",
    "2. 만약 첫글자가 아닌 다른 글자를 기준으로 정렬하고 싶다면?\n",
    "3. 만약 1,2의 조건을 모두 만족시키고 싶다면?"
   ]
  },
  {
   "cell_type": "code",
   "execution_count": 8,
   "metadata": {},
   "outputs": [
    {
     "name": "stdout",
     "output_type": "stream",
     "text": [
      "['Jieun', 'Juyeon', 'Huigun', 'Jungsoo', 'Shengmin', 'Kyeonghun']\n"
     ]
    }
   ],
   "source": [
    "# 길이순\n",
    "print(sorted(name,key = lambda x:len(x)))"
   ]
  },
  {
   "cell_type": "code",
   "execution_count": 9,
   "metadata": {},
   "outputs": [
    {
     "name": "stdout",
     "output_type": "stream",
     "text": [
      "['Shengmin', 'Jieun', 'Juyeon', 'Huigun', 'Jungsoo', 'Kyeonghun']\n"
     ]
    }
   ],
   "source": [
    "#다른글자 기준\n",
    "print(sorted(name,key = lambda x:x[1]))"
   ]
  },
  {
   "cell_type": "code",
   "execution_count": 10,
   "metadata": {},
   "outputs": [
    {
     "name": "stdout",
     "output_type": "stream",
     "text": [
      "['Jieun', 'Huigun', 'Juyeon', 'Jungsoo', 'Shengmin', 'Kyeonghun']\n"
     ]
    }
   ],
   "source": [
    "#복수 기준\n",
    "print(sorted(name,key = lambda x:(len(x),x[0])))"
   ]
  }
 ],
 "metadata": {
  "kernelspec": {
   "display_name": "Python 3",
   "language": "python",
   "name": "python3"
  },
  "language_info": {
   "codemirror_mode": {
    "name": "ipython",
    "version": 3
   },
   "file_extension": ".py",
   "mimetype": "text/x-python",
   "name": "python",
   "nbconvert_exporter": "python",
   "pygments_lexer": "ipython3",
   "version": "3.7.3"
  }
 },
 "nbformat": 4,
 "nbformat_minor": 2
}
