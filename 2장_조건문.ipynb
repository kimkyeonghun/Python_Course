{
 "cells": [
  {
   "cell_type": "markdown",
   "metadata": {},
   "source": [
    "## Conditional Statement(조건문)\n",
    "\n",
    "1. Bool Type and 연산자\n",
    "\n",
    "2. 관계 연산자\n",
    "\n",
    "3. if문"
   ]
  },
  {
   "cell_type": "markdown",
   "metadata": {},
   "source": [
    "### Bool Type and operator\n",
    "\n",
    "Bool Type은 true와 false 값을 가진다.\n",
    "\n",
    "Boolean 연산자로는 and, or, not가 있다.\n",
    "\n",
    "not 은 부정 연산자로 True면 False를 False이면 True를 리턴한다.\n",
    "\n",
    "and 는 전부 참일 경우에만 True를 리턴하고 하나의 False만 있어도 False를 리턴한다.\n",
    "\n",
    "or 은 전부 거짓일 경우에만 False를 리턴하고 하나의 True만 있어도 True를 리턴한다. "
   ]
  },
  {
   "cell_type": "code",
   "execution_count": 1,
   "metadata": {},
   "outputs": [
    {
     "name": "stdout",
     "output_type": "stream",
     "text": [
      "<class 'bool'>\n",
      "<class 'bool'>\n"
     ]
    }
   ],
   "source": [
    "print(type(True))\n",
    "print(type(False))"
   ]
  },
  {
   "cell_type": "code",
   "execution_count": 4,
   "metadata": {},
   "outputs": [
    {
     "name": "stdout",
     "output_type": "stream",
     "text": [
      "not True is False\n",
      "not False is True\n",
      "True and True is True\n",
      "False and False is False\n",
      "True and False is False\n",
      "False and True is False\n",
      "True or True is True\n",
      "False or False is False\n",
      "True or False is True\n",
      "False or True is True\n"
     ]
    }
   ],
   "source": [
    "print(\"not True is\",not True)\n",
    "print(\"not False is\",not False)\n",
    "print(\"True and True is\",True and True)\n",
    "print(\"False and False is\",False and False)\n",
    "print(\"True and False is\",True and False)\n",
    "print(\"False and True is\",False and True)\n",
    "print(\"True or True is\",True or True)\n",
    "print(\"False or False is\",False or False)\n",
    "print(\"True or False is\",True or False)\n",
    "print(\"False or True is\",False or True)"
   ]
  },
  {
   "cell_type": "markdown",
   "metadata": {},
   "source": [
    "### Relation Operators(관계 연산자)\n",
    "\n",
    "관계 연산자란 흔히 알고 있는 > , < , >= 등을 일컫는다. 연산자의 리턴 값은 Bool이다.\n",
    "\n",
    "관계 연산자 중 '같다' 가 수학에서 사용하는 기호와는 다르다. 수학에서는 ' = '이 '같다' 라는 의미를 가지고 있지만 프로그래밍 언어에서는 변수에 값을 대입을 한다. 라는 의미로 사용한다. 따라서 프로그래밍 언어에서 '같다'라는 관계 연산자를 사용하고자 하면 '=='를 사용한다."
   ]
  },
  {
   "cell_type": "code",
   "execution_count": 5,
   "metadata": {},
   "outputs": [
    {
     "name": "stdout",
     "output_type": "stream",
     "text": [
      "True\n",
      "False\n",
      "True\n",
      "False\n",
      "False\n",
      "True\n",
      "False\n",
      "True\n"
     ]
    }
   ],
   "source": [
    "print(45 > 34)\n",
    "print(45 > 79)\n",
    "print(23.1 >=23)\n",
    "print(23.1<=23)\n",
    "print(67.3==87)\n",
    "print(67.0==67)\n",
    "print(67.0 !=67) # 왼쪽과 오른쪽의 값이 다른가?\n",
    "print(67.0 !=23)"
   ]
  },
  {
   "cell_type": "markdown",
   "metadata": {},
   "source": [
    "관계 연산자는 String에서도 사용이 가능하다. 그 이유는 컴퓨터에서는 String을 이용하기 위해서 Ascii 코드를 사용한다. Ascii 코드는 문자열이나 특수문자를 숫자로 변환한 코드로 미리 정해져 있다. Ascii 코드표는 구글에서 검색하여 쉽게 얻을 수 있다."
   ]
  },
  {
   "cell_type": "code",
   "execution_count": 7,
   "metadata": {},
   "outputs": [
    {
     "name": "stdout",
     "output_type": "stream",
     "text": [
      "True\n",
      "False\n",
      "True\n",
      "True\n",
      "True\n",
      "False\n"
     ]
    }
   ],
   "source": [
    "print(\"Z\"<'a') #대문자의 아스키 코드가 더 작다. \n",
    "print(\"A\">'z')\n",
    "print('abc'<'abd') #맨 앞글자가 같으면 뒤의 글자로 판단한다. \n",
    "print('가'<'나')\n",
    "print(\"Jan\" in '21 Jan 2019')\n",
    "print(\"Feb\" in '21 Jan 2019') # in 뒷 문자열에 in 앞 문자열이 있는가?"
   ]
  },
  {
   "cell_type": "markdown",
   "metadata": {},
   "source": [
    "### if statement(조건문)\n",
    "\n",
    "if 절은 조건문으로 if condition:\n",
    "                     \n",
    "                     block\n",
    "으로 구성되어 있다. condition이 True 이면 block의 내용을 수행하고 False이면 block을 수행하지 않고 넘어간다. if절과 block사이에는 공백이 존재한다. 공백은 스페이스바 4번 혹은 tab 1번으로 주어진다. 공백의 의미는 같은 공백라인끼리 있는 부분은 같은 if절에 속해있다는 뜻이라고 생각하면 된다. 밑은 조건문을 사용한 간단한 예시다.\n",
    "\n",
    "input()함수는 사용자가 직접 변수값을 입력하도록 하는 함수이다. 항상 string 값으로 저장이 된다. ()안에 문자열을 집어 넣으면 다음과 같이 질문과 같은 글귀를 넣을 수 있다."
   ]
  },
  {
   "cell_type": "code",
   "execution_count": 11,
   "metadata": {},
   "outputs": [
    {
     "name": "stdout",
     "output_type": "stream",
     "text": [
      "Enter your age: 25\n",
      "Enter your friend age: 24\n",
      "Your friend age is 24.0\n"
     ]
    }
   ],
   "source": [
    "age=float(input('Enter your age: '))\n",
    "if age < 25:\n",
    "    print(\"My age is\",age)\n",
    "age=float(input(\"Enter your friend age: \"))\n",
    "if age < 25:\n",
    "    print(\"Your friend age is\",age)"
   ]
  },
  {
   "cell_type": "markdown",
   "metadata": {},
   "source": [
    "조건문에는 if 이외에도 else와 elif가 존재한다.\n",
    "\n",
    "else는 해석 그대로 나머지를 뜻한다. if 절에서 if에 있는 조건문 이외의 모든 부분들을 수행한다. 다음과 같은 예시에서는 13세 이상 65세 미만의 경우에는 if절에 속하는 조건이지만 그 외에의 나이 즉 13세 미만 65세 이상의 나이들은 else절에 들어간다."
   ]
  },
  {
   "cell_type": "code",
   "execution_count": 2,
   "metadata": {},
   "outputs": [
    {
     "name": "stdout",
     "output_type": "stream",
     "text": [
      "Enter your age: 67\n",
      "요금 면제입니다.\n"
     ]
    }
   ],
   "source": [
    "age=float(input('Enter your age: '))\n",
    "if age >= 13 and  age < 65:\n",
    "    print(\"요금 대상자 입니다.\")\n",
    "else:\n",
    "    print(\"요금 면제입니다.\")"
   ]
  },
  {
   "cell_type": "markdown",
   "metadata": {},
   "source": [
    "어떤 경우에는 같은 변수에 대해서 여러 개의 조건을 취하고 싶은 경우가 있을 것이다. 그럴 경우에 if를 여러 개 사용해서 조건을 걸어줘도 상관이 없지만 다음과 같이 elif를 사용하면 간단하게 줄일 수 있다. elif란 else if의 줄임말으로 if에 해당하지 않는 조건 중에 추가 조건을 걸어주는 것이다. 다음과 같이 elif를 사용하면 elif에 해당하는 조건으로 들어가게 된다."
   ]
  },
  {
   "cell_type": "code",
   "execution_count": 1,
   "metadata": {},
   "outputs": [
    {
     "name": "stdout",
     "output_type": "stream",
     "text": [
      "Enter your age: 15\n",
      "청소년 요금 대상자 입니다.\n"
     ]
    }
   ],
   "source": [
    "age=float(input('Enter your age: '))\n",
    "if age>=20 and age<65:\n",
    "    print(\"어른 요금 대상자 입니다.\")\n",
    "elif age>=13 and age < 20:\n",
    "    print(\"청소년 요금 대상자 입니다.\")\n",
    "else:\n",
    "    print(\"요금 면제입니다.\")"
   ]
  },
  {
   "cell_type": "markdown",
   "metadata": {},
   "source": [
    "else나 elif는 생략해도 무관해서 작성하지 않아도 괜찮지만 if절은 사용하면 무조건 block 부분에 하나의 코드라도 작성을 해야합니다.\n",
    "\n",
    "만약 일부 조건에 대해서는 아무런 조취를 취하지 않고 싶을 경우에는 pass 라는 것을 사용하도록 합니다. pass는 말 그래도 코드를 실행하지 않고 넘긴다는 뜻입니다."
   ]
  },
  {
   "cell_type": "code",
   "execution_count": 6,
   "metadata": {},
   "outputs": [
    {
     "name": "stdout",
     "output_type": "stream",
     "text": [
      "Enter your age: 25\n"
     ]
    }
   ],
   "source": [
    "age=float(input('Enter your age: '))\n",
    "if age>=20 and age<65:\n",
    "    pass"
   ]
  },
  {
   "cell_type": "markdown",
   "metadata": {
    "collapsed": true
   },
   "source": [
    "### Quiz 1\n",
    "\n",
    "Python 세상에서는 나이와 성별에 따라 먹어야 하는 음식이 정해져있다. Python 세상에서 새로운 마을이 생겨서 새로 오는 사람들에게 어떠한 것을 먹어야 하는지 알려주어야 한다. 따라서 나이와 성별을 입력 받으면 어떠한 것을 먹어야 하는지 출력해야 하는 프로그램을 구성해라. 먹어야 하는 음식은 다음과 같다.\n",
    "\n",
    "0세 이상 10세 미만이고, 남자이면 'water' 출력, 여자이면 ‘apple' 출력<br>\n",
    "10세 이상 30세 미만이고, 남자이면 ‘beer' 출력, 여자이면 ’pasta' 출력<br>\n",
    "30세 이상 80세 미만이고, 남자이면 ‘soju' 출력, 여자이면 ’steak' 출력<br>\n",
    "80세 이상이면 남자, 여자 모두 ‘rice' 출력<br>\n",
    "\n",
    "조건 1. 성별은 'm' 'M' 와 ‘w'와 “W\"로 입력을 받는다. 만약 이 외의 성별을 입력을 받는다면 'fail2'를 출력한다.\n",
    "\n",
    "조건 2. 나이는 0세 이상 모두 입력이 가능하고, 이외의 값(음수)를 받으면 'fail1'을 출력한다.\n",
    "\n",
    "조건 3. 만약 성별과 나이 모두 이상한 값이 들어온다면 fail1 과 fail2를 순차적으로 출력한다."
   ]
  },
  {
   "cell_type": "code",
   "execution_count": null,
   "metadata": {},
   "outputs": [],
   "source": []
  }
 ],
 "metadata": {
  "kernelspec": {
   "display_name": "Python 3",
   "language": "python",
   "name": "python3"
  },
  "language_info": {
   "codemirror_mode": {
    "name": "ipython",
    "version": 3
   },
   "file_extension": ".py",
   "mimetype": "text/x-python",
   "name": "python",
   "nbconvert_exporter": "python",
   "pygments_lexer": "ipython3",
   "version": "3.7.3"
  }
 },
 "nbformat": 4,
 "nbformat_minor": 2
}
