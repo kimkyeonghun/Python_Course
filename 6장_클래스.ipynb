{
 "cells": [
  {
   "cell_type": "markdown",
   "metadata": {},
   "source": [
    "## 클래스\n",
    "\n",
    "1. 객체지향언어와 클래스를 사용하는 이유\n",
    "2. 생성자 및 계산기 만들기\n",
    "3. 상속\n",
    "4. 메소드 오버라이딩"
   ]
  },
  {
   "cell_type": "markdown",
   "metadata": {
    "collapsed": true
   },
   "source": [
    "## 클래스를 사용하는 이유\n",
    "\n",
    "클래스를 사용하지 못하면 프로그램을 작성하지 못하는 것은 아니다. 클래스를 사용하지 않더라고 충분히 좋은 프로그램을 만들 수 있다.<br>\n",
    "\n",
    "하지만 클래스를 사용할 수 있다면 조금 더 편한 프로그램을 만들 수 있다.<br><br>\n",
    "\n",
    "예를 들어 계산기가 있다고 하자. 계산기에서 연산을 하면 그 값들을 계속해서 누적을 해야만 한다. 그러기 위해서는 계산기당 하나의 전역변수와 하나의 함수가 필요하다. 하나의 계산기가 있는 것이라면 문제가 없지만 만약 여러 개의 계산기가 있다고 하면 어떻게 해야할까? 계산기가 늘어날 수록 전역변수와 함수가 계속 증가하게 된다. 그러면 메모리를 많이 차지하게 될 것이다.<br>\n",
    "하지만 클래스를 사용한다면 하나의 변수와 함수로만으로도 독립적인 값들을 유지할 수 있다."
   ]
  },
  {
   "cell_type": "code",
   "execution_count": 6,
   "metadata": {},
   "outputs": [
    {
     "name": "stdout",
     "output_type": "stream",
     "text": [
      "이즈리얼 챔피언이 생성되었습니다.\n",
      "체력 350, 공격력 52\n",
      "\n"
     ]
    }
   ],
   "source": [
    "name = \"이즈리얼\"\n",
    "hp = 350\n",
    "damage = 52\n",
    "\n",
    "print(\"{0} 챔피언이 생성되었습니다.\".format(name))\n",
    "print(\"체력 {0}, 공격력 {1}\\n\".format(hp, damage))"
   ]
  },
  {
   "cell_type": "code",
   "execution_count": 7,
   "metadata": {},
   "outputs": [
    {
     "name": "stdout",
     "output_type": "stream",
     "text": [
      "마스터이 챔피언이 생성되었습니다.\n",
      "체력 400, 공격력 55\n",
      "\n"
     ]
    }
   ],
   "source": [
    "name2 = \"마스터이\"\n",
    "hp2 = 400\n",
    "damage2 = 55\n",
    "\n",
    "print(\"{0} 챔피언이 생성되었습니다.\".format(name2))\n",
    "print(\"체력 {0}, 공격력 {1}\\n\".format(hp2, damage2))"
   ]
  },
  {
   "cell_type": "code",
   "execution_count": 9,
   "metadata": {},
   "outputs": [
    {
     "name": "stdout",
     "output_type": "stream",
     "text": [
      "이즈리얼 : 7시 방향으로 상대 챔피언을 공격! [공격력은 52]\n",
      "마스터이 : 1시 방향으로 상대 챔피언을 공격! [공격력은 55]\n"
     ]
    }
   ],
   "source": [
    "def attack(name, location, damage):\n",
    "    print(\"{0} : {1} 방향으로 상대 챔피언을 공격! [공격력은 {2}]\".format(name,location,damage))\n",
    "    \n",
    "attack(name, \"7시\", damage)\n",
    "attack(name2, \"1시\", damage2)"
   ]
  },
  {
   "cell_type": "markdown",
   "metadata": {},
   "source": [
    "하지만 다른 챔피언이 추가된다면...?<br>\n",
    "혹은 중복된 챔피언이 존재한다면...?"
   ]
  },
  {
   "cell_type": "markdown",
   "metadata": {},
   "source": [
    "## 클래스와 객체\n",
    "클래스와 객체의 관계는 다음과 같이 설명 할 수 있다.<br>\n",
    "\n",
    "* 유닛 -> 클래스(class)\n",
    "* 챔피언1, 챔피언 2... ->객체(object)\n",
    "\n",
    "클래스란 똑같은 무엇인가를 계속해서 만들어낼 수 있는 하나의 틀 같은 것이고(유닛),객체란 클래스에 의해서 만들어진 것을 뜻한다.<br>\n",
    "\n",
    "클래스에 의해서 만들어진 객체는 서로 독립적인 성격을 가진다. 하나의 챔피언의 내용이 변동되더라도 다른 챔피언들에겐 영향을 주지 못하는 것과 같다. 다음은 하나의 간단한 클래스 예시이다."
   ]
  },
  {
   "cell_type": "code",
   "execution_count": 2,
   "metadata": {},
   "outputs": [],
   "source": [
    "class Unit:\n",
    "    pass"
   ]
  },
  {
   "cell_type": "markdown",
   "metadata": {},
   "source": [
    "위의 클래스는 아무런 기능을 가지고 있지 않다. 그래도 이 클래스는 객체를 생성할 수 있다. 다음은 객체를 만드는 방법이다."
   ]
  },
  {
   "cell_type": "code",
   "execution_count": 3,
   "metadata": {},
   "outputs": [],
   "source": [
    "cham1 = Unit()\n",
    "cham2 = Unit()"
   ]
  },
  {
   "cell_type": "markdown",
   "metadata": {},
   "source": [
    "### 유닛정보 클래스 만들기\n",
    "\n",
    "본격적으로 유닛들을 위한 기본정보를 만들어보도록 하자.<br>\n",
    "\n",
    "기본정보에 들어갈 수 있는 변수로는 이름, 체력, 공격력 그리고 사용하는 스킬들이 있을 것이다.<br>"
   ]
  },
  {
   "cell_type": "code",
   "execution_count": 10,
   "metadata": {},
   "outputs": [],
   "source": [
    "class Unit:\n",
    "    def __init__(self, name, hp, damage):\n",
    "        self.name = name\n",
    "        self.hp = hp\n",
    "        self.damage = damage\n",
    "        print(\"{0} 유닛이 생성 되었습니다.\".format(self.name))\n",
    "        print(\"체력 {0}, 공격력 {1}\\n\".format(self.hp,self.damage))"
   ]
  },
  {
   "cell_type": "code",
   "execution_count": 11,
   "metadata": {},
   "outputs": [
    {
     "name": "stdout",
     "output_type": "stream",
     "text": [
      "이즈리얼 유닛이 생성 되었습니다.\n",
      "체력 350, 공격력 30\n",
      "\n",
      "마스터이 유닛이 생성 되었습니다.\n",
      "체력 400, 공격력 35\n",
      "\n"
     ]
    }
   ],
   "source": [
    "Ezreal = Unit(\"이즈리얼\",350, 30)\n",
    "Master_Yi = Unit(\"마스터이\",400, 35)"
   ]
  },
  {
   "cell_type": "markdown",
   "metadata": {},
   "source": [
    "### __init__(생성자)\n",
    "\n",
    "클래스 부분에서 \\_\\_init__ 이 있다. 이것을 생성자라고 부른다. 생성자란 객체가 생성될 때 자동으로 호출되는 메소드이다.\n",
    "객체의 초기값의 설정이 필요할 때 사용을 한다. init이 필요한 변수만큼 클래스를 생성할 때 부여해야 한다."
   ]
  },
  {
   "cell_type": "code",
   "execution_count": 56,
   "metadata": {
    "collapsed": true
   },
   "outputs": [],
   "source": [
    "def __init__(self, name=45, hp, damage):\n",
    "    self.name = name\n",
    "    self.hp = hp\n",
    "    self.damage = damage\n",
    "    print(\"{0} 유닛이 생성 되었습니다.\".format(self.name))\n",
    "    print(\"체력 {0}, 공격력 {1}\\n\".format(self.hp,self.damage))"
   ]
  },
  {
   "cell_type": "code",
   "execution_count": 12,
   "metadata": {
    "scrolled": true
   },
   "outputs": [
    {
     "ename": "TypeError",
     "evalue": "__init__() missing 1 required positional argument: 'damage'",
     "output_type": "error",
     "traceback": [
      "\u001b[1;31m---------------------------------------------------------------------------\u001b[0m",
      "\u001b[1;31mTypeError\u001b[0m                                 Traceback (most recent call last)",
      "\u001b[1;32m<ipython-input-12-92cc4d458701>\u001b[0m in \u001b[0;36m<module>\u001b[1;34m\u001b[0m\n\u001b[1;32m----> 1\u001b[1;33m \u001b[0mEzreal2\u001b[0m \u001b[1;33m=\u001b[0m \u001b[0mUnit\u001b[0m\u001b[1;33m(\u001b[0m\u001b[1;34m\"이즈리얼\"\u001b[0m\u001b[1;33m,\u001b[0m\u001b[1;36m350\u001b[0m\u001b[1;33m)\u001b[0m\u001b[1;33m\u001b[0m\u001b[1;33m\u001b[0m\u001b[0m\n\u001b[0m\u001b[0;32m      2\u001b[0m \u001b[0mMaster_Yi2\u001b[0m \u001b[1;33m=\u001b[0m \u001b[0mUnit\u001b[0m\u001b[1;33m(\u001b[0m\u001b[1;34m\"마스터이\"\u001b[0m\u001b[1;33m,\u001b[0m\u001b[1;36m400\u001b[0m\u001b[1;33m,\u001b[0m \u001b[1;36m35\u001b[0m\u001b[1;33m,\u001b[0m \u001b[1;36m50\u001b[0m\u001b[1;33m)\u001b[0m\u001b[1;33m\u001b[0m\u001b[1;33m\u001b[0m\u001b[0m\n",
      "\u001b[1;31mTypeError\u001b[0m: __init__() missing 1 required positional argument: 'damage'"
     ]
    }
   ],
   "source": [
    "Ezreal2 = Unit(\"이즈리얼\",350)\n",
    "Master_Yi2 = Unit(\"마스터이\",400, 35, 50)"
   ]
  },
  {
   "cell_type": "markdown",
   "metadata": {},
   "source": [
    "### 멤버변수\n",
    "\n",
    "클래스 내에서 정의된 변수. 이를 통해 초기화를 하거나, 사용할 수 있다.\n",
    "\n",
    "새로운 챔피언 이렐리아가 생겼고, 스킨과 함께 생겼다고 한다.(스킨은 챔피언의 외향을 바꿀 수 있다.)"
   ]
  },
  {
   "cell_type": "code",
   "execution_count": 15,
   "metadata": {},
   "outputs": [
    {
     "name": "stdout",
     "output_type": "stream",
     "text": [
      "이렐리아 유닛이 생성 되었습니다.\n",
      "체력 300, 공격력 40\n",
      "\n",
      "유닛 이름 : 이렐리아, 공격력 : 40\n",
      "이렐리아 유닛이 생성 되었습니다.\n",
      "체력 300, 공격력 40\n",
      "\n",
      "이렐리아의 스킨이 적용되었습니다.\n"
     ]
    },
    {
     "ename": "AttributeError",
     "evalue": "'Unit' object has no attribute 'skin'",
     "output_type": "error",
     "traceback": [
      "\u001b[1;31m---------------------------------------------------------------------------\u001b[0m",
      "\u001b[1;31mAttributeError\u001b[0m                            Traceback (most recent call last)",
      "\u001b[1;32m<ipython-input-15-380e999a990d>\u001b[0m in \u001b[0;36m<module>\u001b[1;34m\u001b[0m\n\u001b[0;32m      9\u001b[0m     \u001b[0mprint\u001b[0m\u001b[1;33m(\u001b[0m\u001b[1;34m\"{}의 스킨이 적용되었습니다.\"\u001b[0m\u001b[1;33m.\u001b[0m\u001b[0mformat\u001b[0m\u001b[1;33m(\u001b[0m\u001b[0mIrelia2\u001b[0m\u001b[1;33m.\u001b[0m\u001b[0mname\u001b[0m\u001b[1;33m)\u001b[0m\u001b[1;33m)\u001b[0m\u001b[1;33m\u001b[0m\u001b[1;33m\u001b[0m\u001b[0m\n\u001b[0;32m     10\u001b[0m \u001b[1;33m\u001b[0m\u001b[0m\n\u001b[1;32m---> 11\u001b[1;33m \u001b[1;32mif\u001b[0m \u001b[0mIrelia\u001b[0m\u001b[1;33m.\u001b[0m\u001b[0mskin\u001b[0m \u001b[1;33m==\u001b[0m \u001b[1;32mTrue\u001b[0m\u001b[1;33m:\u001b[0m\u001b[1;33m\u001b[0m\u001b[1;33m\u001b[0m\u001b[0m\n\u001b[0m\u001b[0;32m     12\u001b[0m     \u001b[0mprint\u001b[0m\u001b[1;33m(\u001b[0m\u001b[1;34m\"{}의 스킨이 적용되었습니다.\"\u001b[0m\u001b[1;33m.\u001b[0m\u001b[0mformat\u001b[0m\u001b[1;33m(\u001b[0m\u001b[0mIrelia\u001b[0m\u001b[1;33m.\u001b[0m\u001b[0mname\u001b[0m\u001b[1;33m)\u001b[0m\u001b[1;33m)\u001b[0m\u001b[1;33m\u001b[0m\u001b[1;33m\u001b[0m\u001b[0m\n",
      "\u001b[1;31mAttributeError\u001b[0m: 'Unit' object has no attribute 'skin'"
     ]
    }
   ],
   "source": [
    "Irelia = Unit(\"이렐리아\",300, 40)\n",
    "print(\"유닛 이름 : {0}, 공격력 : {1}\".format(Irelia.name,Irelia.damage))\n",
    "\n",
    "Irelia2 = Unit(\"이렐리아\",300, 40)\n",
    "#추가로 변수를 할당할 수 있다. 단, 이는 확장한 객체에만 적용이 된다.\n",
    "Irelia2.skin = True\n",
    "\n",
    "if Irelia2.skin == True:\n",
    "    print(\"{}의 스킨이 적용되었습니다.\".format(Irelia2.name))\n",
    "    \n",
    "if Irelia.skin == True:\n",
    "    print(\"{}의 스킨이 적용되었습니다.\".format(Irelia.name))"
   ]
  },
  {
   "cell_type": "markdown",
   "metadata": {},
   "source": [
    "### 메소드"
   ]
  },
  {
   "cell_type": "code",
   "execution_count": 20,
   "metadata": {},
   "outputs": [],
   "source": [
    "class AttckUnit:\n",
    "    def __init__(self, name, hp, damage):\n",
    "        self.name = name\n",
    "        self.hp = hp\n",
    "        self.damage = damage\n",
    "        \n",
    "    def attack(self,location):\n",
    "        print(\"{0} : {1} 방향으로 상대 챔피언을 공격! [공격력은 {2}]\".format(self.name,location,self.damage))\n",
    "        \n",
    "    def damaged(self,damage):\n",
    "        print(\"{0} : {1} 데미지를 입었습니다.\".format(self.name,damage))\n",
    "        self.hp -= damage\n",
    "        print(\"{0} : 현재 체력은 {1} 입니다.\".format(self.name,self.hp))\n",
    "        if self.hp <= 0:\n",
    "            print(\"{} : 죽었습니다.\".format(self.name))"
   ]
  },
  {
   "cell_type": "code",
   "execution_count": 21,
   "metadata": {},
   "outputs": [
    {
     "name": "stdout",
     "output_type": "stream",
     "text": [
      "잭스 : 5시 방향으로 상대 챔피언을 공격! [공격력은 20]\n",
      "잭스 : 400 데미지를 입었습니다.\n",
      "잭스 : 현재 체력은 300 입니다.\n",
      "잭스 : 400 데미지를 입었습니다.\n",
      "잭스 : 현재 체력은 -100 입니다.\n",
      "잭스 : 죽었습니다.\n"
     ]
    }
   ],
   "source": [
    "Jax = AttckUnit(\"잭스\", 700, 20)\n",
    "Jax.attack(\"5시\")\n",
    "Jax.damaged(400)\n",
    "Jax.damaged(400)"
   ]
  },
  {
   "cell_type": "markdown",
   "metadata": {},
   "source": [
    "### __str__(출력)\n",
    "\n",
    "클래스 부분에서 \\_\\_str__이 있다. 이것을 문자열화 함수라고 한다. 객체를 출력할 때의 형식을 지정해주는 함수이다."
   ]
  },
  {
   "cell_type": "code",
   "execution_count": 26,
   "metadata": {},
   "outputs": [],
   "source": [
    "class AttckUnit2:\n",
    "    def __init__(self, name, hp, damage):\n",
    "        self.name = name\n",
    "        self.hp = hp\n",
    "        self.damage = damage\n",
    "        \n",
    "    def __str__(self):\n",
    "        return \"Champion Name : {0}\\nChampion HP : {1}\\nChampion damage : {2}\\n\".format(self.name,self.hp,self.damage)\n",
    "        \n",
    "    def attack(self,location):\n",
    "        print(\"{0} : {1} 방향으로 상대 챔피언을 공격! [공격력은 {2}]\".format(self.name,location,self.damage))\n",
    "        \n",
    "    def damaged(self,damage):\n",
    "        print(\"{0} : {1} 데미지를 입었습니다.\".format(self.name,damage))\n",
    "        self.hp -= damage\n",
    "        print(\"{0} : 현재 체력은 {1} 입니다.\".format(self.name,self.hp))\n",
    "        if self.hp <= 0:\n",
    "            print(\"{} : 죽었습니다.\".format(self.name))"
   ]
  },
  {
   "cell_type": "code",
   "execution_count": 27,
   "metadata": {},
   "outputs": [
    {
     "name": "stdout",
     "output_type": "stream",
     "text": [
      "Champion Name : 잭스\n",
      "Champion HP : 700\n",
      "Champion damage : 20\n",
      "\n"
     ]
    }
   ],
   "source": [
    "Jax = AttckUnit2(\"잭스\", 700, 20)\n",
    "print(Jax)"
   ]
  },
  {
   "cell_type": "markdown",
   "metadata": {},
   "source": [
    "## 상속\n",
    "\n",
    "\"재산을 상속받다\"라고 할 때의 상속과 같은 의미이다. 어떤 클래스를 만들 때 다른 클래스의 기능을 물려받을 수 있는 것이다. 이 상속의 개념을 이용해서 더 많은 종류의 유닛을 나타내보자."
   ]
  },
  {
   "cell_type": "code",
   "execution_count": 28,
   "metadata": {},
   "outputs": [],
   "source": [
    "class Unit:\n",
    "    def __init__(self, name, hp):\n",
    "        self.name = name\n",
    "        self.hp = hp\n",
    "        \n",
    "class AttckUnit(Unit):\n",
    "    def __init__(self, name, hp, damage):\n",
    "        Unit.__init__(self,name, hp)\n",
    "        self.damage = damage\n",
    "        \n",
    "    def attack(self,location):\n",
    "        print(\"{0} : {1} 방향으로 상대 챔피언을 공격! [공격력은 {2}]\".format(self.name,location,self.damage))\n",
    "        \n",
    "    def damaged(self,damage):\n",
    "        print(\"{0} : {1} 데미지를 입었습니다.\".format(self.name,damage))\n",
    "        self.hp -= damage\n",
    "        print(\"{0} : 현재 체력은 {1} 입니다.\".format(self.name,self.hp))\n",
    "        if self.hp <= 0:\n",
    "            print(\"{} : 죽었습니다.\".format(self.name))"
   ]
  },
  {
   "cell_type": "code",
   "execution_count": 29,
   "metadata": {},
   "outputs": [
    {
     "name": "stdout",
     "output_type": "stream",
     "text": [
      "잭스 : 5시 방향으로 상대 챔피언을 공격! [공격력은 20]\n",
      "잭스 : 400 데미지를 입었습니다.\n",
      "잭스 : 현재 체력은 300 입니다.\n",
      "잭스 : 400 데미지를 입었습니다.\n",
      "잭스 : 현재 체력은 -100 입니다.\n",
      "잭스 : 죽었습니다.\n"
     ]
    }
   ],
   "source": [
    "Jax = AttckUnit(\"잭스\", 700, 20)\n",
    "Jax.attack(\"5시\")\n",
    "Jax.damaged(400)\n",
    "Jax.damaged(400)"
   ]
  },
  {
   "cell_type": "markdown",
   "metadata": {},
   "source": [
    "## 다중상속\n",
    "\n",
    "일반적으로 상속을 해주는 클래스를 부모클래스라고 하고, 상속을 받는 클래스를 자식클래스라고 한다. 특수한 경우에 부모클래스가 둘인 경우가 있을 수 있다."
   ]
  },
  {
   "cell_type": "code",
   "execution_count": 39,
   "metadata": {},
   "outputs": [],
   "source": [
    "class Creep:\n",
    "    def __init__(self,speed):\n",
    "        self.speed = speed\n",
    "        \n",
    "    def feature(self,location):\n",
    "        print(\"{0}에서 생성된 Creep이 {1}의 속도로 이동합니다.\".format(location,self.speed))\n",
    "        \n",
    "class JungleCreep(Creep,AttckUnit):\n",
    "    def __init__(self,name,hp,damage,speed,buff):\n",
    "        AttckUnit.__init__(self,name, hp, damage)\n",
    "        Creep.__init__(self,speed)\n",
    "        self.buff = buff\n"
   ]
  },
  {
   "cell_type": "code",
   "execution_count": 40,
   "metadata": {},
   "outputs": [
    {
     "name": "stdout",
     "output_type": "stream",
     "text": [
      "블루 옆에서 생성된 Creep이 1의 속도로 이동합니다.\n"
     ]
    }
   ],
   "source": [
    "frog = JungleCreep(\"두꺼비\",200,6,1,\"체력\")\n",
    "frog.feature(\"블루 옆\")"
   ]
  },
  {
   "cell_type": "markdown",
   "metadata": {},
   "source": [
    "### 메서드 오버라이딩\n",
    "부모 클래스의 함수를 자식 클래스에서 재정의해서 사용하는 것이다."
   ]
  },
  {
   "cell_type": "code",
   "execution_count": 41,
   "metadata": {},
   "outputs": [],
   "source": [
    "class Creep:\n",
    "    def __init__(self,speed):\n",
    "        self.speed = speed\n",
    "        \n",
    "    def feature(self,location):\n",
    "        print(\"{0}에서 생성된 Creep이 {1}의 속도로 이동합니다.\".format(location,self.speed))\n",
    "        \n",
    "class JungleCreep(Creep,AttckUnit):\n",
    "    def __init__(self,name,hp,damage,speed,buff):\n",
    "        AttckUnit.__init__(self,name, hp, damage)\n",
    "        Creep.__init__(self,speed)\n",
    "        self.buff = buff\n",
    "        \n",
    "    def feature(self,name):\n",
    "        print(\"{0} : {1}를 처치하여 {2}를 얻습니다\".format(name,self.name,self.buff))\n"
   ]
  },
  {
   "cell_type": "code",
   "execution_count": 42,
   "metadata": {},
   "outputs": [
    {
     "name": "stdout",
     "output_type": "stream",
     "text": [
      "TOP에서 생성된 Creep이 1의 속도로 이동합니다.\n",
      "이즈리얼 : 두꺼비를 처치하여 체력를 얻습니다\n"
     ]
    }
   ],
   "source": [
    "minion = Creep(1)\n",
    "minion.feature(\"TOP\")\n",
    "frog = JungleCreep(\"두꺼비\",200,6,1,\"체력\")\n",
    "frog.feature(\"이즈리얼\")"
   ]
  },
  {
   "cell_type": "markdown",
   "metadata": {},
   "source": [
    "### Quiz\n",
    "주어진 코드를 활용하여 부동산 프로그램을 완성하시오.\n",
    "\n",
    "(출력 예제)<br>\n",
    "총 3대의 매물이 있습니다.<br>\n",
    "강남 아파트 매매 10억 2010년 <br>\n",
    "마포 오피스텔 전세 5억 2007년<br>\n",
    "송파 빌라 월세 500/50 2000년<br>"
   ]
  },
  {
   "cell_type": "code",
   "execution_count": 1,
   "metadata": {},
   "outputs": [],
   "source": [
    "class House:\n",
    "    def __init__(self,location,house_type,deal_type,price,completion_year):\n",
    "        pass\n",
    "    \n",
    "    def show_detail(self):\n",
    "        pass"
   ]
  },
  {
   "cell_type": "code",
   "execution_count": null,
   "metadata": {},
   "outputs": [],
   "source": []
  }
 ],
 "metadata": {
  "kernelspec": {
   "display_name": "Python 3",
   "language": "python",
   "name": "python3"
  },
  "language_info": {
   "codemirror_mode": {
    "name": "ipython",
    "version": 3
   },
   "file_extension": ".py",
   "mimetype": "text/x-python",
   "name": "python",
   "nbconvert_exporter": "python",
   "pygments_lexer": "ipython3",
   "version": "3.7.3"
  }
 },
 "nbformat": 4,
 "nbformat_minor": 2
}
