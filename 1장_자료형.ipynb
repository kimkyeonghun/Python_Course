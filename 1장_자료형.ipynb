{
 "cells": [
  {
   "cell_type": "markdown",
   "metadata": {},
   "source": [
    "# Python의 자료형\n",
    "\n",
    "프로그래밍의 언어를 처음 배우고자 할 때에는 자료형에 대해서 먼저 아는 것이 중요하다. 마치 영어를 알기 위해서는 알파벳을 알아야 하는 것 처럼 프로그래밍에서 알파벳과 같은 존재가 자료형이기 때문이다. 따라서 Python을 배우기 위해서 제일 먼저 자료형을 배우고자 한다. Python의 자료형은 다른 언어와 달리 변환이 자유롭고 따로 지정하는 것이 간단해 이해하기 쉽다.<br>\n",
    "Python의 자료형은 다음과 같이 크게 4부분으로 나눌 수 있다.\n",
    "\n",
    "1. String\n",
    "\n",
    "2. Int, Float\n",
    "\n",
    "3. List, Tuple\n",
    "\n",
    "4. Set,Dictionary\n"
   ]
  },
  {
   "cell_type": "markdown",
   "metadata": {},
   "source": [
    "## 1. String\n",
    "\n",
    "String(문자열)은 문자나 단어로 구성되어있는 자료형이다. 즉 Python에서 글을 담당하는 자료형이라고 생각하면 된다.<br> C에서의 경우에는 \"  \"로 둘러싸이면 string으로 ' '로 둘러싸이면 chr으로 구분이 되어지는데 Python에서는 이러한 구분 없이 둘 다 String으로 인식하게 된다."
   ]
  },
  {
   "cell_type": "code",
   "execution_count": 1,
   "metadata": {},
   "outputs": [
    {
     "name": "stdout",
     "output_type": "stream",
     "text": [
      "Hello Python!\n",
      "Hello Python!\n",
      "<class 'str'>\n",
      "<class 'str'>\n"
     ]
    }
   ],
   "source": [
    "a=\"Hello Python!\"\n",
    "b='Hello Python!'\n",
    "print(a)\n",
    "print(b)\n",
    "print(type(a))\n",
    "print(type(b))"
   ]
  },
  {
   "cell_type": "markdown",
   "metadata": {},
   "source": [
    "따라서 \" \"나 ' '로 둘러싸이면 무조건 string 형태로 바뀌게 되므로 숫자를 \" \"나 ' '로 둘러싸면 string 형태가 될 것이다."
   ]
  },
  {
   "cell_type": "code",
   "execution_count": 4,
   "metadata": {},
   "outputs": [
    {
     "name": "stdout",
     "output_type": "stream",
     "text": [
      "<class 'str'>\n",
      "<class 'str'>\n"
     ]
    }
   ],
   "source": [
    "print(type(\"123\"))\n",
    "print(type('456'))"
   ]
  },
  {
   "cell_type": "markdown",
   "metadata": {},
   "source": [
    "\" \"나 ' '로 둘러싸는 것 이외에도 str()함수를 사용해서 string으로 바꿀 수 있다.<br>다음과 같이 str()함수를 사용해서 int형이거나, float형인 값을 문자열로 바꿀 수 있다."
   ]
  },
  {
   "cell_type": "code",
   "execution_count": 3,
   "metadata": {
    "scrolled": true
   },
   "outputs": [
    {
     "name": "stdout",
     "output_type": "stream",
     "text": [
      "<class 'str'>\n",
      "<class 'str'>\n"
     ]
    }
   ],
   "source": [
    "print(type(str(9)))\n",
    "print(type(str(9.1)))"
   ]
  },
  {
   "cell_type": "markdown",
   "metadata": {},
   "source": [
    "만약 장문의 글을 쓰게 되어서 여러 줄을 표현을 해야하고, 글 중에 인용구가 포함이 되어 있어서 \" \" 와 ' '를 섞어써야 할 경우가 있다.<br>\n",
    "그럴 경우 다음과 같이 작성한다."
   ]
  },
  {
   "cell_type": "code",
   "execution_count": 2,
   "metadata": {},
   "outputs": [
    {
     "name": "stdout",
     "output_type": "stream",
     "text": [
      "<class 'str'>\n",
      "I'm Python beginner.\n",
      "I say \"Python is fun\"\n",
      "I say \"I'm python beginner\"\n"
     ]
    }
   ],
   "source": [
    "#여러줄을 표현해야 할 경우\n",
    "print(type(\"\"\"Python\n",
    "is\n",
    "fun\"\"\"))\n",
    "#혼용해서 사용해야 할 경우\n",
    "print(\"I'm Python beginner.\") # ' 를 사용하기 위해 \" \"로 묶음\n",
    "print('I say \"Python is fun\"') # \" 를 사용하기 위해  ' '로 묶음\n",
    "print(\"I say \\\"I\\'m python beginner\\\"\")# '나 \" 앞에 \\를 사용"
   ]
  },
  {
   "cell_type": "markdown",
   "metadata": {},
   "source": [
    "### 문자열 연산\n",
    "\n",
    "문자열 간에도 일부 연산을 지원한다."
   ]
  },
  {
   "cell_type": "markdown",
   "metadata": {
    "collapsed": true
   },
   "source": [
    " 문자열은 다음과 같이 더하기와 곱셈 연산을 지원한다.<br>\n",
    " 문자열을 더하는 것은 문자열을 이어 붙여서 하나의 문자열을 만들어준다.<br>\n",
    " 문자열을 곱하는 것은 문자열을 반복해서 하나의 문자열로 만들어준다."
   ]
  },
  {
   "cell_type": "code",
   "execution_count": 4,
   "metadata": {},
   "outputs": [
    {
     "data": {
      "text/plain": [
       "'Python is fun'"
      ]
     },
     "execution_count": 4,
     "metadata": {},
     "output_type": "execute_result"
    }
   ],
   "source": [
    "\"Python\"+' is '+\"fun\""
   ]
  },
  {
   "cell_type": "code",
   "execution_count": 5,
   "metadata": {},
   "outputs": [
    {
     "data": {
      "text/plain": [
       "'PythonPythonPythonPython'"
      ]
     },
     "execution_count": 5,
     "metadata": {},
     "output_type": "execute_result"
    }
   ],
   "source": [
    "\"Python\"*4"
   ]
  },
  {
   "cell_type": "markdown",
   "metadata": {},
   "source": [
    "### 문자열 인덱싱과 슬라이싱\n",
    "\n",
    "문자열을 다루기 위해서 가장 중요한 인덱싱과 슬라이싱이다."
   ]
  },
  {
   "cell_type": "markdown",
   "metadata": {},
   "source": [
    "인덱싱과 슬라이싱은 반복 가능한 개체에서는 모두 사용이 가능하다. 문자열도 역시 반복 가능한 객체이므로 사용가능하다.<br>따라서 문자열의 인덱싱과 슬라이싱을 사용을 한다면 문자열의 일부분만 불러 낼 수 있게 된다.<br> 인덱싱과 슬라이승은 다음과 같이 사용한다."
   ]
  },
  {
   "cell_type": "code",
   "execution_count": 1,
   "metadata": {},
   "outputs": [],
   "source": [
    "a=\"I'm python beginner,but it is so fun!\""
   ]
  },
  {
   "cell_type": "code",
   "execution_count": 2,
   "metadata": {},
   "outputs": [
    {
     "data": {
      "text/plain": [
       "'m'"
      ]
     },
     "execution_count": 2,
     "metadata": {},
     "output_type": "execute_result"
    }
   ],
   "source": [
    "a[2]#인덱싱"
   ]
  },
  {
   "cell_type": "code",
   "execution_count": 3,
   "metadata": {},
   "outputs": [
    {
     "data": {
      "text/plain": [
       "\"I'm\""
      ]
     },
     "execution_count": 3,
     "metadata": {},
     "output_type": "execute_result"
    }
   ],
   "source": [
    "a[0:3]#슬라이싱, 0~2까지"
   ]
  },
  {
   "cell_type": "markdown",
   "metadata": {},
   "source": [
    "거의 모든 프로그래밍 언어가 그러하듯이 첫 글자의 인덱스는 1이 아닌 0이 된다.<br> 따라서 a[2]는 a 중에서 3번째 글자를 의미하게 된다. '도 문자열의 하나의 일원으로 계산하기 때문에 m이 3번째 글자가 된다.<br> 슬라이싱은 인덱싱의 범위버젼으로 a[m:n]과 사용하게 되는데 이는 a의 m번째부터 n-1까지를 의미하게 된다.<br>\n",
    "len()은 문자열의 길이를 반환해주는 함수다"
   ]
  },
  {
   "cell_type": "code",
   "execution_count": 4,
   "metadata": {},
   "outputs": [
    {
     "data": {
      "text/plain": [
       "'!'"
      ]
     },
     "execution_count": 4,
     "metadata": {},
     "output_type": "execute_result"
    }
   ],
   "source": [
    "a[len(a)-1]#0부터 시작하므로 1을 빼야 맨 끝의 인덱스로 접근 가능하다."
   ]
  },
  {
   "cell_type": "markdown",
   "metadata": {},
   "source": [
    "그렇다면 만약 길이보다 더 큰 값을 넣거나 음수(-)값으로 인덱싱을 하면 어떻게 될까?"
   ]
  },
  {
   "cell_type": "code",
   "execution_count": 5,
   "metadata": {},
   "outputs": [
    {
     "ename": "IndexError",
     "evalue": "string index out of range",
     "output_type": "error",
     "traceback": [
      "\u001b[1;31m---------------------------------------------------------------------------\u001b[0m",
      "\u001b[1;31mIndexError\u001b[0m                                Traceback (most recent call last)",
      "\u001b[1;32m<ipython-input-5-bf9c2cdb9bdc>\u001b[0m in \u001b[0;36m<module>\u001b[1;34m\u001b[0m\n\u001b[1;32m----> 1\u001b[1;33m \u001b[0ma\u001b[0m\u001b[1;33m[\u001b[0m\u001b[0mlen\u001b[0m\u001b[1;33m(\u001b[0m\u001b[0ma\u001b[0m\u001b[1;33m)\u001b[0m\u001b[1;33m+\u001b[0m\u001b[1;36m1\u001b[0m\u001b[1;33m]\u001b[0m\u001b[1;33m\u001b[0m\u001b[1;33m\u001b[0m\u001b[0m\n\u001b[0m",
      "\u001b[1;31mIndexError\u001b[0m: string index out of range"
     ]
    }
   ],
   "source": [
    "a[len(a)+1]"
   ]
  },
  {
   "cell_type": "code",
   "execution_count": 6,
   "metadata": {},
   "outputs": [
    {
     "data": {
      "text/plain": [
       "'!'"
      ]
     },
     "execution_count": 6,
     "metadata": {},
     "output_type": "execute_result"
    }
   ],
   "source": [
    "a[-1]"
   ]
  },
  {
   "cell_type": "markdown",
   "metadata": {},
   "source": [
    " 길이보다 더 큰값을 넣으면 IndexError가 일어나지만 음수(-)는 오류가 발생하지 않았다.<br>\n",
    " 또한 a[-1]은 a[len(a)-1]과 같은 값을 얻었음을 알 수 있다. 이 이유는 Python에서는 음수 인덱스도 지원을 하기 때문이다.음수 인덱스일 경우에는 맨 끝에서 부터 인덱스가 시장하게 된다.<br>\n",
    "하지만 음수값도 길이 이상을 벗어나면 IndexError가 발생한다."
   ]
  },
  {
   "cell_type": "code",
   "execution_count": 7,
   "metadata": {
    "scrolled": true
   },
   "outputs": [
    {
     "name": "stdout",
     "output_type": "stream",
     "text": [
      "n u f\n",
      "I\n"
     ]
    },
    {
     "ename": "IndexError",
     "evalue": "string index out of range",
     "output_type": "error",
     "traceback": [
      "\u001b[1;31m---------------------------------------------------------------------------\u001b[0m",
      "\u001b[1;31mIndexError\u001b[0m                                Traceback (most recent call last)",
      "\u001b[1;32m<ipython-input-7-5428449320e6>\u001b[0m in \u001b[0;36m<module>\u001b[1;34m\u001b[0m\n\u001b[0;32m      1\u001b[0m \u001b[0mprint\u001b[0m\u001b[1;33m(\u001b[0m\u001b[0ma\u001b[0m\u001b[1;33m[\u001b[0m\u001b[1;33m-\u001b[0m\u001b[1;36m2\u001b[0m\u001b[1;33m]\u001b[0m\u001b[1;33m,\u001b[0m\u001b[0ma\u001b[0m\u001b[1;33m[\u001b[0m\u001b[1;33m-\u001b[0m\u001b[1;36m3\u001b[0m\u001b[1;33m]\u001b[0m\u001b[1;33m,\u001b[0m\u001b[0ma\u001b[0m\u001b[1;33m[\u001b[0m\u001b[1;33m-\u001b[0m\u001b[1;36m4\u001b[0m\u001b[1;33m]\u001b[0m\u001b[1;33m)\u001b[0m\u001b[1;33m\u001b[0m\u001b[1;33m\u001b[0m\u001b[0m\n\u001b[0;32m      2\u001b[0m \u001b[0mprint\u001b[0m\u001b[1;33m(\u001b[0m\u001b[0ma\u001b[0m\u001b[1;33m[\u001b[0m\u001b[1;33m-\u001b[0m\u001b[0mlen\u001b[0m\u001b[1;33m(\u001b[0m\u001b[0ma\u001b[0m\u001b[1;33m)\u001b[0m\u001b[1;33m]\u001b[0m\u001b[1;33m)\u001b[0m\u001b[1;31m#맨 처음값\u001b[0m\u001b[1;33m\u001b[0m\u001b[1;33m\u001b[0m\u001b[0m\n\u001b[1;32m----> 3\u001b[1;33m \u001b[0mprint\u001b[0m\u001b[1;33m(\u001b[0m\u001b[0ma\u001b[0m\u001b[1;33m[\u001b[0m\u001b[1;33m-\u001b[0m\u001b[0mlen\u001b[0m\u001b[1;33m(\u001b[0m\u001b[0ma\u001b[0m\u001b[1;33m)\u001b[0m\u001b[1;33m-\u001b[0m\u001b[1;36m1\u001b[0m\u001b[1;33m]\u001b[0m\u001b[1;33m)\u001b[0m\u001b[1;33m\u001b[0m\u001b[1;33m\u001b[0m\u001b[0m\n\u001b[0m",
      "\u001b[1;31mIndexError\u001b[0m: string index out of range"
     ]
    }
   ],
   "source": [
    "print(a[-2],a[-3],a[-4])\n",
    "print(a[-len(a)])#맨 처음값\n",
    "print(a[-len(a)-1])"
   ]
  },
  {
   "cell_type": "markdown",
   "metadata": {},
   "source": [
    "### 문자열 내장함수\n",
    "각 자료형별로 자주 사용할 만한 함수들을 미리 Python에 만들어져 있다. 다음은 string(문자열) 중에서 자주 사용할만한 내장함수들을 추려보았다"
   ]
  },
  {
   "cell_type": "markdown",
   "metadata": {},
   "source": [
    "#### 문자 개수 세기(count)\n",
    "문자열 내 한 글자나 구절이 몇 개가 있는지를 확인할 수 있는 함수이다."
   ]
  },
  {
   "cell_type": "code",
   "execution_count": 8,
   "metadata": {},
   "outputs": [
    {
     "data": {
      "text/plain": [
       "3"
      ]
     },
     "execution_count": 8,
     "metadata": {},
     "output_type": "execute_result"
    }
   ],
   "source": [
    "\"banana\".count(\"a\")"
   ]
  },
  {
   "cell_type": "markdown",
   "metadata": {},
   "source": [
    "#### 문자 위치 찾기(1번)\n",
    " 찾는 문자의 인덱스를 반환해주며,만약 존재하지 않는 문자를 찾는 다면 오류가 발생한다."
   ]
  },
  {
   "cell_type": "code",
   "execution_count": 9,
   "metadata": {},
   "outputs": [
    {
     "data": {
      "text/plain": [
       "2"
      ]
     },
     "execution_count": 9,
     "metadata": {},
     "output_type": "execute_result"
    }
   ],
   "source": [
    "\"banana\".index(\"n\")"
   ]
  },
  {
   "cell_type": "code",
   "execution_count": 11,
   "metadata": {},
   "outputs": [
    {
     "ename": "ValueError",
     "evalue": "substring not found",
     "output_type": "error",
     "traceback": [
      "\u001b[1;31m---------------------------------------------------------------------------\u001b[0m",
      "\u001b[1;31mValueError\u001b[0m                                Traceback (most recent call last)",
      "\u001b[1;32m<ipython-input-11-6c4bc7bdec6e>\u001b[0m in \u001b[0;36m<module>\u001b[1;34m\u001b[0m\n\u001b[1;32m----> 1\u001b[1;33m \u001b[1;34m\"Game\"\u001b[0m\u001b[1;33m.\u001b[0m\u001b[0mindex\u001b[0m\u001b[1;33m(\u001b[0m\u001b[1;34m\"Z\"\u001b[0m\u001b[1;33m)\u001b[0m\u001b[1;33m\u001b[0m\u001b[1;33m\u001b[0m\u001b[0m\n\u001b[0m",
      "\u001b[1;31mValueError\u001b[0m: substring not found"
     ]
    }
   ],
   "source": [
    "\"Game\".index(\"Z\")"
   ]
  },
  {
   "cell_type": "markdown",
   "metadata": {},
   "source": [
    "#### 문자 위치 찾기(2번)\n",
    "내장함수 index와 같은 역할을 하지만 index와 달리 존재하지 않는 문자를 찾으면 오류가 아닌 -1을 리턴한다."
   ]
  },
  {
   "cell_type": "code",
   "execution_count": 12,
   "metadata": {},
   "outputs": [
    {
     "data": {
      "text/plain": [
       "2"
      ]
     },
     "execution_count": 12,
     "metadata": {},
     "output_type": "execute_result"
    }
   ],
   "source": [
    "\"banana\".find(\"n\")"
   ]
  },
  {
   "cell_type": "code",
   "execution_count": 13,
   "metadata": {},
   "outputs": [
    {
     "data": {
      "text/plain": [
       "-1"
      ]
     },
     "execution_count": 13,
     "metadata": {},
     "output_type": "execute_result"
    }
   ],
   "source": [
    "\"Game\".find(\"Z\")"
   ]
  },
  {
   "cell_type": "markdown",
   "metadata": {},
   "source": [
    "#### 문자 구성 확인하기\n",
    "isdigit은 문자열이 숫자로만 구성되어있는가 확인해주는 함수이며, 숫자로만 구성되어 있으면 True, 하나라도 문자가 있으면 False이다.\n",
    "<br>isalpha는 isdigit과 반대로 문자로만 구성되어있는지 확인해주는 함수이다."
   ]
  },
  {
   "cell_type": "code",
   "execution_count": 14,
   "metadata": {},
   "outputs": [
    {
     "name": "stdout",
     "output_type": "stream",
     "text": [
      "True\n",
      "False\n"
     ]
    }
   ],
   "source": [
    "print(\"123456789\".isdigit())\n",
    "print(\"123456789a\".isdigit())"
   ]
  },
  {
   "cell_type": "code",
   "execution_count": 15,
   "metadata": {},
   "outputs": [
    {
     "name": "stdout",
     "output_type": "stream",
     "text": [
      "True\n",
      "False\n"
     ]
    }
   ],
   "source": [
    "print(\"abcde\".isalpha())\n",
    "print(\"abcde1\".isalpha())"
   ]
  },
  {
   "cell_type": "markdown",
   "metadata": {},
   "source": [
    "#### 대소문자 변환하기\n",
    "capitalize는 문자열의 첫 글자를 대문자로 만들어 주는 함수이다.\n",
    "\n",
    "islower는 문자열이 소문자로만 구성되어있는지 확인하는 함수이며, 맞으면 True, 아니면 False를 리턴한다.\n",
    "\n",
    "isupper는 문자열이 대문자로만 구성되어있는지 확인하는 함수이며, 맞으면 True, 아니면 False를 리턴한다.\n",
    "\n",
    "upper는 문자열 전체를 대문자로 만드는 함수이고, lower는 문자열 전체를 소문자로 만드는 함수이다.\n",
    "\n",
    "swapcase는 대문자를 소문자로 소문자를 대문자로 만드는 함수이다."
   ]
  },
  {
   "cell_type": "code",
   "execution_count": 16,
   "metadata": {},
   "outputs": [
    {
     "name": "stdout",
     "output_type": "stream",
     "text": [
      "Hello python!\n",
      "True\n",
      "False\n",
      "True\n",
      "False\n",
      "HELLO PYTHON!\n",
      "hello python!\n",
      "hELLO pYTHON!\n"
     ]
    }
   ],
   "source": [
    "print(\"hello python!\".capitalize())\n",
    "print(\"hello python!\".islower())\n",
    "print(\"Hello python!\".islower())\n",
    "print(\"HELLO PYTHON!\".isupper())\n",
    "print(\"hELLO PYTHON!\".isupper())\n",
    "print(\"hello python!\".upper())\n",
    "print(\"HELLO PYTHON!\".lower())\n",
    "print(\"Hello Python!\".swapcase())"
   ]
  },
  {
   "cell_type": "markdown",
   "metadata": {},
   "source": [
    "#### 문자열 분리하기\n",
    "str.split(sep)으로 사용하며 str을 sep으로 분리하는 함수이다. 보통 \" \" 공백(띄어쓰기)를 기준으로 분리를 한다.\n",
    "받는 변수가 없으면 리스트 값으로 분리를 한다."
   ]
  },
  {
   "cell_type": "code",
   "execution_count": 19,
   "metadata": {},
   "outputs": [
    {
     "name": "stdout",
     "output_type": "stream",
     "text": [
      "['Python', 'is', 'fun']\n",
      "['Python', '', '', '', '', '', '', '', '', 'is', 'fun']\n"
     ]
    }
   ],
   "source": [
    "print(\"Python         is fun\".split())\n",
    "c=\"Python         is fun\".split(\" \")\n",
    "print(c)"
   ]
  },
  {
   "cell_type": "markdown",
   "metadata": {},
   "source": [
    "#### 문자열 붙이기\n",
    "str.join(iterable) join은 iterable한 자료 사이에 str 값을 넣어주는 함수이지만 보통 str에 \" \"를 넣어서 문자열을 붙이는 용도로 주로 사용한다."
   ]
  },
  {
   "cell_type": "code",
   "execution_count": 55,
   "metadata": {},
   "outputs": [
    {
     "data": {
      "text/plain": [
       "'a,b,c,d'"
      ]
     },
     "execution_count": 55,
     "metadata": {},
     "output_type": "execute_result"
    }
   ],
   "source": [
    "\",\".join(\"abcd\")"
   ]
  },
  {
   "cell_type": "code",
   "execution_count": 1,
   "metadata": {},
   "outputs": [
    {
     "data": {
      "text/plain": [
       "'Python is fun'"
      ]
     },
     "execution_count": 1,
     "metadata": {},
     "output_type": "execute_result"
    }
   ],
   "source": [
    "\" \".join([\"Python\",\"is\",\"fun\"])"
   ]
  },
  {
   "cell_type": "markdown",
   "metadata": {},
   "source": [
    "#### 문자 대체하기\n",
    "replace(old, new, count=-1)는 문자열 중에서 old를 new로 대체하는 함수다. 만약 문자열 내에서 old가 계속해서 반복되어 나오는 경우 count를 사용해서 앞에서 부터 count개의 old를 new로 대체해준다."
   ]
  },
  {
   "cell_type": "code",
   "execution_count": 20,
   "metadata": {},
   "outputs": [
    {
     "data": {
      "text/plain": [
       "\"I'm C++ beginner,but it is so fun!\""
      ]
     },
     "execution_count": 20,
     "metadata": {},
     "output_type": "execute_result"
    }
   ],
   "source": [
    "a = \"I'm python beginner,but it is so fun!\"\n",
    "a.replace(\"python\",\"C++\")"
   ]
  },
  {
   "cell_type": "markdown",
   "metadata": {},
   "source": [
    "### 문자열 포맷팅\n",
    "\n",
    "**방법 1 - %를 사용하는 방법**\n",
    "\n",
    "1. %s\t문자열(String)\n",
    "2. %c\t문자 1개(character)\n",
    "3. %d\t정수(Integer)\n",
    "4. %f\t부동소수(floating-point)\n",
    "5. %o\t8진수\n",
    "6. %x\t16진수\n",
    "7. %%\tLiteral % (문자 % 자체)"
   ]
  },
  {
   "cell_type": "code",
   "execution_count": 4,
   "metadata": {},
   "outputs": [
    {
     "name": "stdout",
     "output_type": "stream",
     "text": [
      "나는 20살입니다.\n",
      "나는 python를 좋아해요\n",
      "나는 보라색과 노랑색을 좋아해요\n"
     ]
    }
   ],
   "source": [
    "print(\"나는 %d살입니다.\"%27)\n",
    "print(\"나는 %s를 좋아해요\"%'python')\n",
    "print(\"나는 %s색과 %s색을 좋아해요\"%('보라','노랑'))"
   ]
  },
  {
   "cell_type": "markdown",
   "metadata": {},
   "source": [
    "#### 방법 2 - format을 이용하는 방법"
   ]
  },
  {
   "cell_type": "code",
   "execution_count": 14,
   "metadata": {},
   "outputs": [
    {
     "name": "stdout",
     "output_type": "stream",
     "text": [
      "나는 27살입니다.\n",
      "나는 보라색과 노랑색을 좋아해요\n",
      "나는 노랑색과 보라색을 좋아해요\n",
      "나는 27살이며, 보라색을 좋아해요.\n",
      "나는 27살이며, 보라색을 좋아해요.\n"
     ]
    }
   ],
   "source": [
    "print(\"나는 {}살입니다.\".format(27))\n",
    "print(\"나는 {}색과 {}색을 좋아해요\".format(\"보라\",\"노랑\"))\n",
    " #{ } 안에 숫자를 사용하면 format 안에 있는 내용을 인덱스로 접근해 출력한다.\n",
    "print(\"나는 {1}색과 {0}색을 좋아해요\".format(\"보라\",\"노랑\"))\n",
    "# 혹은 변수를 지정해서 formatting을 할 수 있다.\n",
    "print(\"나는 {age}살이며, {color}색을 좋아해요.\".format(age=27,color=\"보라\"))\n",
    "print(\"나는 {age}살이며, {color}색을 좋아해요.\".format(color=\"보라\",age=27))"
   ]
  },
  {
   "cell_type": "markdown",
   "metadata": {},
   "source": [
    "#### 방법3 - f로 지정하기 (v3.6이상)"
   ]
  },
  {
   "cell_type": "code",
   "execution_count": 13,
   "metadata": {},
   "outputs": [
    {
     "name": "stdout",
     "output_type": "stream",
     "text": [
      "나는 27살이며, 보라색을 좋아해요.\n"
     ]
    }
   ],
   "source": [
    "age = 27\n",
    "color = \"보라\"\n",
    "print(f\"나는 {age}살이며, {color}색을 좋아해요.\")"
   ]
  },
  {
   "cell_type": "markdown",
   "metadata": {},
   "source": [
    "### Quiz 1\n",
    "\n",
    "3개의 변수가 있다고 가정한다. 이를 한 줄로 만들어서 출력하고 그 다음 줄엔 그것의 길이, 그 다음 줄엔 각 입력의 첫 글자만 따서 대문자로 출력한다.<br>\n",
    "\"Input\"<br>\n",
    "　　very<br>\n",
    "　　important<br>\n",
    "　　problem<br>\n",
    "  \n",
    "-----------------------------\n",
    "  \"output\"<br>\n",
    "　　very important problem<br>\n",
    "　　21<br>\n",
    "　　VIP<br>"
   ]
  },
  {
   "cell_type": "code",
   "execution_count": 24,
   "metadata": {},
   "outputs": [
    {
     "name": "stdout",
     "output_type": "stream",
     "text": [
      "very important problem\n",
      "22\n",
      "VIP\n"
     ]
    }
   ],
   "source": [
    "a = \"very\"\n",
    "b = \"important\"\n",
    "c = \"problem\"\n",
    "d = \" \".join([a,b,c])\n",
    "\n",
    "print(d)\n",
    "print(len(d))\n",
    "print(a[0].upper()+b[0].upper()+c[0].upper())"
   ]
  },
  {
   "cell_type": "markdown",
   "metadata": {},
   "source": [
    "## 2. Int, Float\n",
    "\n",
    "int는 정수형(integer)를 뜻하고, Float는 소수점이 포함이 된 숫자(Floating-point)를 뜻한다."
   ]
  },
  {
   "cell_type": "code",
   "execution_count": 2,
   "metadata": {},
   "outputs": [
    {
     "name": "stdout",
     "output_type": "stream",
     "text": [
      "<class 'int'> <class 'int'> <class 'int'>\n"
     ]
    }
   ],
   "source": [
    "a=5\n",
    "b=-3\n",
    "c=0\n",
    "print(type(a),type(b),type(c))"
   ]
  },
  {
   "cell_type": "code",
   "execution_count": 3,
   "metadata": {},
   "outputs": [
    {
     "name": "stdout",
     "output_type": "stream",
     "text": [
      "<class 'float'> <class 'float'> <class 'float'>\n"
     ]
    }
   ],
   "source": [
    "a=1.4\n",
    "b=-4.7\n",
    "c=5.0\n",
    "print(type(a),type(b),type(c))"
   ]
  },
  {
   "cell_type": "markdown",
   "metadata": {},
   "source": [
    "Float형으로 변환하기 위해서 float()를 사용하고, int형을 변환하기 위해서 int()를 사용한다. 소수점이 포함된 숫자에 int()를 사용하면 소수점 부분을 버린다."
   ]
  },
  {
   "cell_type": "code",
   "execution_count": 8,
   "metadata": {},
   "outputs": [
    {
     "name": "stdout",
     "output_type": "stream",
     "text": [
      "5\n",
      "4.0\n"
     ]
    }
   ],
   "source": [
    "print(int(5.7))\n",
    "print(float(4))"
   ]
  },
  {
   "cell_type": "markdown",
   "metadata": {},
   "source": [
    "### 사칙연산\n",
    "\n",
    "숫자형과 평소에 알고 있는 연산자 ( + , - , * , / )를 사용해서 사칙연산을 할 수 있다."
   ]
  },
  {
   "cell_type": "code",
   "execution_count": 9,
   "metadata": {
    "collapsed": true
   },
   "outputs": [],
   "source": [
    "a,b=5,4"
   ]
  },
  {
   "cell_type": "code",
   "execution_count": 10,
   "metadata": {},
   "outputs": [
    {
     "name": "stdout",
     "output_type": "stream",
     "text": [
      "9\n",
      "1\n",
      "20\n",
      "1.25\n"
     ]
    }
   ],
   "source": [
    "print(a+b)\n",
    "print(a-b)\n",
    "print(a*b)\n",
    "print(a/b)"
   ]
  },
  {
   "cell_type": "markdown",
   "metadata": {},
   "source": [
    "이 외에도 제곱(**), 나머지(%), 몫(//) 을 수행하는 사칙 연산이 있다."
   ]
  },
  {
   "cell_type": "code",
   "execution_count": 11,
   "metadata": {},
   "outputs": [
    {
     "name": "stdout",
     "output_type": "stream",
     "text": [
      "625\n",
      "1\n",
      "1\n"
     ]
    }
   ],
   "source": [
    "print(a**b)\n",
    "print(a%b)\n",
    "print(a//b)"
   ]
  },
  {
   "cell_type": "markdown",
   "metadata": {},
   "source": [
    "Python에서는 사칙연산을 축약해서 사용할 수 있으며, 내장함수나 라이브러리를 통해서 많은 연산을 지원해준다.\n",
    "\n",
    "위의 사칙연산을 다음과 같이 축약을 할 수 있다."
   ]
  },
  {
   "cell_type": "code",
   "execution_count": 12,
   "metadata": {},
   "outputs": [
    {
     "name": "stdout",
     "output_type": "stream",
     "text": [
      "6\n",
      "5\n",
      "10\n",
      "3.3333333333333335\n"
     ]
    }
   ],
   "source": [
    "a+=1 # a = a+1\n",
    "print(a)\n",
    "a-=1 # a = a-1\n",
    "print(a)\n",
    "a*=2 # a= a*2\n",
    "print(a)\n",
    "a/=3 # a = a/3\n",
    "print(a)"
   ]
  },
  {
   "cell_type": "markdown",
   "metadata": {},
   "source": [
    "다음과 같이 and와 or 연산자를 사용할 수 있다.<br>\n",
    "and(&) 는 양 쪽의 조건이 모두 True 일 경우에 True를 반환하고,<br>\n",
    "or(|) 는 한 쪽의 조건만 True여도 True를 반환한다."
   ]
  },
  {
   "cell_type": "code",
   "execution_count": 6,
   "metadata": {},
   "outputs": [
    {
     "name": "stdout",
     "output_type": "stream",
     "text": [
      "True\n",
      "True\n",
      "True\n",
      "True\n"
     ]
    }
   ],
   "source": [
    "#and\n",
    "print((3 > 0) and (3 < 5))\n",
    "print((3 > 0) & (3 < 5))\n",
    "\n",
    "#or\n",
    "print((3 > 0) or (3 > 5))\n",
    "print((3 > 0) | (3 > 5))"
   ]
  },
  {
   "cell_type": "markdown",
   "metadata": {},
   "source": [
    "### Quiz 2\n",
    "다음 출력에 대한 결과를 예측해보시오.\n",
    "\n",
    "1) print(5 > 4 > 3)\n",
    "\n",
    "2) print(5 > 4 > 7)"
   ]
  },
  {
   "cell_type": "code",
   "execution_count": null,
   "metadata": {},
   "outputs": [],
   "source": []
  },
  {
   "cell_type": "markdown",
   "metadata": {},
   "source": [
    "#### round (반올림)\n",
    "\n",
    "round(number,ndigits)로 사용을 한다. 수(number)를 소숫점 ndigits번째 자리까지 나타내도록 ndigits + 1 번째에서 반올림을 하는 함수이다. ndigits의 고정값(default)은 0으로 되어있다.\n",
    "\n",
    "하지만 .5와 같은 경우에는 일반적으로 알고 있는 반올림 연산을 따르지 않는 경우가 생기는데, 그 이유는 컴퓨터에서 소숫점을 표현하는 방식 때문이다.(4.5 == 4.44444444444449)와 같이 표현된다."
   ]
  },
  {
   "cell_type": "code",
   "execution_count": 24,
   "metadata": {},
   "outputs": [
    {
     "name": "stdout",
     "output_type": "stream",
     "text": [
      "5\n",
      "3\n",
      "4.7\n"
     ]
    }
   ],
   "source": [
    "a,b,c=4.6,3.2,4.68\n",
    "print(round(a))\n",
    "print(round(b))\n",
    "print(round(c,1))"
   ]
  },
  {
   "cell_type": "code",
   "execution_count": 25,
   "metadata": {},
   "outputs": [
    {
     "name": "stdout",
     "output_type": "stream",
     "text": [
      "4\n",
      "6\n",
      "6\n"
     ]
    }
   ],
   "source": [
    "print(round(4.5))\n",
    "print(round(5.5))\n",
    "print(round(6.5))"
   ]
  },
  {
   "cell_type": "markdown",
   "metadata": {},
   "source": [
    "#### abs(절대값)\n",
    "\n",
    "abs(x)와 같이 사용하며, x에 절대값을 취한 값을 얻는다."
   ]
  },
  {
   "cell_type": "code",
   "execution_count": 7,
   "metadata": {},
   "outputs": [
    {
     "name": "stdout",
     "output_type": "stream",
     "text": [
      "1\n",
      "1\n"
     ]
    }
   ],
   "source": [
    "print(abs(-1))\n",
    "print(abs(1))"
   ]
  },
  {
   "cell_type": "markdown",
   "metadata": {},
   "source": [
    "#### pow(제곱)\n",
    "\n",
    "pow(x,y,z)로 사용을 한다. (x**y)%z 와 같은 연산을 한다. z의 고정값(defalut)값이 None으로 되어 있어 값을 주지 않으면 나머지 연산은 하지 않는다. "
   ]
  },
  {
   "cell_type": "code",
   "execution_count": 28,
   "metadata": {},
   "outputs": [
    {
     "name": "stdout",
     "output_type": "stream",
     "text": [
      "8\n",
      "2\n"
     ]
    }
   ],
   "source": [
    "print(pow(2,3))\n",
    "print(pow(2,3,3))"
   ]
  },
  {
   "cell_type": "markdown",
   "metadata": {},
   "source": [
    "#### import math\n",
    "다음은 수학연산을 지원하는 내장 라이브러리인 math이다. import math 로 불러오며 다양한 수학 연산을 지원한다. 연산자는 다음 링크에서 확인 할 수 있다.<br>\n",
    "https://docs.python.org/3/library/math.html"
   ]
  },
  {
   "cell_type": "markdown",
   "metadata": {},
   "source": [
    "#### random\n",
    "\n",
    "난수값을 만드는 기능을 가지고 있는 함수들이다."
   ]
  },
  {
   "cell_type": "code",
   "execution_count": 9,
   "metadata": {},
   "outputs": [
    {
     "name": "stdout",
     "output_type": "stream",
     "text": [
      "0.5096755454602789\n",
      "7.73584720052141\n"
     ]
    }
   ],
   "source": [
    "# random이 가지고 있는 함수들을 모두 import 한다.\n",
    "from random import *\n",
    "\n",
    "print(random()) #0.0 ~ 1.0 미만의 임의의 값을 생성\n",
    "print(random() * 10) #0.0 ~ 10.0 미만의 임의의 값을 생성"
   ]
  },
  {
   "cell_type": "code",
   "execution_count": 11,
   "metadata": {},
   "outputs": [
    {
     "name": "stdout",
     "output_type": "stream",
     "text": [
      "17\n"
     ]
    }
   ],
   "source": [
    "print(randrange(1,28)) # 1 ~ 28 미만의 임의의 값을 생성"
   ]
  },
  {
   "cell_type": "code",
   "execution_count": 12,
   "metadata": {},
   "outputs": [
    {
     "name": "stdout",
     "output_type": "stream",
     "text": [
      "13\n"
     ]
    }
   ],
   "source": [
    "print(randint(1,28)) # 1~ 28 이하의 임의의 값을 생성"
   ]
  },
  {
   "cell_type": "markdown",
   "metadata": {},
   "source": [
    "### Quiz 3\n",
    "당신은 최근에 코딩 스터디 모임을 새로 만들었습니다.<br>\n",
    "월 4회 코딩 스터디를 진행하고 했는데 이 중 3번은 온라인으로 진행을 하며, 나머지 한 번은 오프라인으로 진행 합니다.<br>\n",
    "따라서 아래 조건에 맞는 오프라인 모임 날짜를 선정해주시오.<br><br><br>\n",
    "\n",
    "조건 1. 랜덤으로 날짜를 선정해야 함<br>\n",
    "조건 2. 월별 날짜는 다름을 감안하여 일수는 30으로 고정함<br>\n",
    "조건 3. 매월 1 ~ 3일은 스터디 준비를 하는 기간이므로 제외함<br><br><br>\n",
    "\n",
    "(출력문 예제)<br>\n",
    "이번 달 오프라인 스터디 모임 날짜는 x 일로 선정되었습니다."
   ]
  },
  {
   "cell_type": "code",
   "execution_count": null,
   "metadata": {},
   "outputs": [],
   "source": []
  },
  {
   "cell_type": "markdown",
   "metadata": {
    "collapsed": true
   },
   "source": [
    "## 3. List, Tuple\n",
    "\n",
    "List는 배열 자료형이며 여러 개의 자료 형을 담는 역할을 한다. Tuple도 List와 비슷하지만 몇가지 다른 점이 존재한다.\n",
    "\n",
    "List는 다음과 같이 표현이 되며 문자열(string)과 같이 인덱싱과 슬라이싱이 가능하다."
   ]
  },
  {
   "cell_type": "code",
   "execution_count": 2,
   "metadata": {},
   "outputs": [
    {
     "name": "stdout",
     "output_type": "stream",
     "text": [
      "<class 'list'>\n"
     ]
    }
   ],
   "source": [
    "a=[1,3,5,7,9,11]\n",
    "print(type(a))"
   ]
  },
  {
   "cell_type": "code",
   "execution_count": 4,
   "metadata": {},
   "outputs": [
    {
     "name": "stdout",
     "output_type": "stream",
     "text": [
      "1 3 5\n",
      "[1, 3, 5]\n"
     ]
    }
   ],
   "source": [
    "print(a[0],a[1],a[2])\n",
    "print(a[0:3])"
   ]
  },
  {
   "cell_type": "markdown",
   "metadata": {},
   "source": [
    "List 안에 List를 사용하는 것을 2중 배열문이라고 하는데 행렬을 표현하고자 할 때 주로 많이 사용한다. 2중 배열문은 다음과 같이 인덱싱을 한다."
   ]
  },
  {
   "cell_type": "code",
   "execution_count": 7,
   "metadata": {},
   "outputs": [
    {
     "name": "stdout",
     "output_type": "stream",
     "text": [
      "[[1, 2, 3], [4, 5, 6], [7, 8, 9]]\n"
     ]
    }
   ],
   "source": [
    "a=[[1,2,3],[4,5,6],[7,8,9]]\n",
    "print(a)"
   ]
  },
  {
   "cell_type": "code",
   "execution_count": 9,
   "metadata": {},
   "outputs": [
    {
     "data": {
      "text/plain": [
       "8"
      ]
     },
     "execution_count": 9,
     "metadata": {},
     "output_type": "execute_result"
    }
   ],
   "source": [
    "a[0][2]+a[1][1] #3+5"
   ]
  },
  {
   "cell_type": "markdown",
   "metadata": {},
   "source": [
    "List 역시 string과 동일하게 덧셈과 곱셈 연산을 지원한다."
   ]
  },
  {
   "cell_type": "code",
   "execution_count": 10,
   "metadata": {},
   "outputs": [
    {
     "data": {
      "text/plain": [
       "[4, 5, 6, 1, 7, 3]"
      ]
     },
     "execution_count": 10,
     "metadata": {},
     "output_type": "execute_result"
    }
   ],
   "source": [
    "a=[4,5,6]\n",
    "b=[1,7,3]\n",
    "a+b"
   ]
  },
  {
   "cell_type": "code",
   "execution_count": 12,
   "metadata": {},
   "outputs": [
    {
     "data": {
      "text/plain": [
       "[1, 2, 3, 1, 2, 3, 1, 2, 3]"
      ]
     },
     "execution_count": 12,
     "metadata": {},
     "output_type": "execute_result"
    }
   ],
   "source": [
    "a=[1,2,3]*3\n",
    "a"
   ]
  },
  {
   "cell_type": "markdown",
   "metadata": {},
   "source": [
    "List는 String과 비슷한 기능을 지원하지만 값을 수정할 수 있다는 점은 다르다.<br>\n",
    "string의 경우에는 인덱싱을 사용해서 지정(assignment)를 할 수 없지만 list는 인덱싱을 사용해서 지정을 할 수 있다."
   ]
  },
  {
   "cell_type": "code",
   "execution_count": 9,
   "metadata": {},
   "outputs": [
    {
     "ename": "TypeError",
     "evalue": "'str' object does not support item assignment",
     "output_type": "error",
     "traceback": [
      "\u001b[1;31m---------------------------------------------------------------------------\u001b[0m",
      "\u001b[1;31mTypeError\u001b[0m                                 Traceback (most recent call last)",
      "\u001b[1;32m<ipython-input-9-08b21c2845b5>\u001b[0m in \u001b[0;36m<module>\u001b[1;34m\u001b[0m\n\u001b[0;32m      1\u001b[0m \u001b[0ma\u001b[0m\u001b[1;33m=\u001b[0m\u001b[1;34m\"String\"\u001b[0m\u001b[1;33m\u001b[0m\u001b[1;33m\u001b[0m\u001b[0m\n\u001b[1;32m----> 2\u001b[1;33m \u001b[0ma\u001b[0m\u001b[1;33m[\u001b[0m\u001b[1;36m2\u001b[0m\u001b[1;33m]\u001b[0m\u001b[1;33m=\u001b[0m\u001b[1;34m\"t\"\u001b[0m\u001b[1;33m\u001b[0m\u001b[1;33m\u001b[0m\u001b[0m\n\u001b[0m\u001b[0;32m      3\u001b[0m \u001b[0ma\u001b[0m\u001b[1;33m\u001b[0m\u001b[1;33m\u001b[0m\u001b[0m\n",
      "\u001b[1;31mTypeError\u001b[0m: 'str' object does not support item assignment"
     ]
    }
   ],
   "source": [
    "a=\"String\"\n",
    "a[2]=\"t\"\n",
    "a"
   ]
  },
  {
   "cell_type": "code",
   "execution_count": 10,
   "metadata": {},
   "outputs": [
    {
     "data": {
      "text/plain": [
       "['S', 't', 't', 'i', 'n', 'g']"
      ]
     },
     "execution_count": 10,
     "metadata": {},
     "output_type": "execute_result"
    }
   ],
   "source": [
    "a=[\"S\",\"t\",\"r\",\"i\",\"n\",\"g\"]\n",
    "a[2]=\"t\"\n",
    "a"
   ]
  },
  {
   "cell_type": "markdown",
   "metadata": {},
   "source": [
    "### 리스트 내장함수"
   ]
  },
  {
   "cell_type": "markdown",
   "metadata": {},
   "source": [
    "#### 요소 값 추가하기(1)\n",
    "\n",
    "list.append(x)를 사용하면 list에 x의 값을 list의 끝에 추가하는 작업을 수행한다."
   ]
  },
  {
   "cell_type": "code",
   "execution_count": 18,
   "metadata": {},
   "outputs": [
    {
     "data": {
      "text/plain": [
       "[1, 2, 3, 4]"
      ]
     },
     "execution_count": 18,
     "metadata": {},
     "output_type": "execute_result"
    }
   ],
   "source": [
    "a=[1,2,3]\n",
    "a.append(4)\n",
    "a"
   ]
  },
  {
   "cell_type": "markdown",
   "metadata": {},
   "source": [
    "#### 요소 값 추가하기(2)\n",
    "\n",
    "append는 항상 list의 맨 끝에 넣는다는 점을 보완하기 위해서 사용한다.\n",
    "insert(a,b)는 a번째 위치에 b를 넣는 다는 것을 의미한다."
   ]
  },
  {
   "cell_type": "code",
   "execution_count": 19,
   "metadata": {},
   "outputs": [
    {
     "data": {
      "text/plain": [
       "[1, 4, 2, 3]"
      ]
     },
     "execution_count": 19,
     "metadata": {},
     "output_type": "execute_result"
    }
   ],
   "source": [
    "a=[1,2,3]\n",
    "a.insert(1,4)\n",
    "a"
   ]
  },
  {
   "cell_type": "markdown",
   "metadata": {},
   "source": [
    "#### 요소 값 제거하기(1)\n",
    "\n",
    ".pop()을 사용하면 list의 끝 값을 제거하는 작업을 수행하며,.pop(a)로 사용하면 list의 a번째 위치의 값을 제거한다."
   ]
  },
  {
   "cell_type": "code",
   "execution_count": 20,
   "metadata": {},
   "outputs": [
    {
     "name": "stdout",
     "output_type": "stream",
     "text": [
      "[2, 4]\n",
      "[2, 6]\n"
     ]
    }
   ],
   "source": [
    "a=[2,4,6]\n",
    "a.pop()\n",
    "print(a)\n",
    "a=[2,4,6]\n",
    "a.pop(1)\n",
    "print(a)"
   ]
  },
  {
   "cell_type": "markdown",
   "metadata": {},
   "source": [
    "#### 요소 값 제거하기(2)\n",
    "\n",
    ".remove(x)를 사용하면 첫 번째로 나오는 x의 값을 제거하는 작업을 수행한다."
   ]
  },
  {
   "cell_type": "code",
   "execution_count": 22,
   "metadata": {},
   "outputs": [
    {
     "data": {
      "text/plain": [
       "[1, 3, 2, 4, 5]"
      ]
     },
     "execution_count": 22,
     "metadata": {},
     "output_type": "execute_result"
    }
   ],
   "source": [
    "a=[1,3,2,4,4,5]\n",
    "a.remove(4)\n",
    "a"
   ]
  },
  {
   "cell_type": "markdown",
   "metadata": {},
   "source": [
    "#### 요소 값 정렬하기(1)\n",
    "\n",
    "list.sort()를 사용하면 list를 오름차순으로 정렬한다."
   ]
  },
  {
   "cell_type": "code",
   "execution_count": 23,
   "metadata": {},
   "outputs": [
    {
     "data": {
      "text/plain": [
       "[1, 2, 3, 4, 6, 7, 9]"
      ]
     },
     "execution_count": 23,
     "metadata": {},
     "output_type": "execute_result"
    }
   ],
   "source": [
    "a=[1,9,3,4,2,7,6]\n",
    "a.sort()\n",
    "a"
   ]
  },
  {
   "cell_type": "markdown",
   "metadata": {},
   "source": [
    "#### 요소 값 정렬하기(2)\n",
    "\n",
    "sorted(iteralbe,key=None,reverse=False)는 정렬함수이면서 다양한 기능을 제공한다. sort()는 리스트 자체를 정렬시키며서 반환값이 없지만, sorted는 반환값을 제공하기 때문에 정렬 전의 상태와 정렬 후의 상태를 둘 다 원할 때 사용한다. 또한 reverse=True로 조건을 켜두면 오름차순이 아닌 내림차순으로 정렬을 한다.또한 key 값을 넣어주면 key를 기준으로 정렬을 한다."
   ]
  },
  {
   "cell_type": "code",
   "execution_count": 25,
   "metadata": {},
   "outputs": [
    {
     "name": "stdout",
     "output_type": "stream",
     "text": [
      "[1, 9, 3, 4, 2, 7, 6]\n",
      "[1, 2, 3, 4, 6, 7, 9]\n",
      "[9, 7, 6, 4, 3, 2, 1]\n"
     ]
    }
   ],
   "source": [
    "a=[1,9,3,4,2,7,6]\n",
    "b=sorted(a)\n",
    "c=sorted(a,reverse=True)\n",
    "print(a)\n",
    "print(b)\n",
    "print(c)"
   ]
  },
  {
   "cell_type": "markdown",
   "metadata": {},
   "source": [
    "#### 요소 값 뒤집기\n",
    "\n",
    "reverse는 리스트 전체를 뒤집는 작업을 한다. 내림차순으로 정렬을 하는 것이 아닌 단순히 리스트를 뒤집는 일만 한다."
   ]
  },
  {
   "cell_type": "code",
   "execution_count": 26,
   "metadata": {},
   "outputs": [
    {
     "name": "stdout",
     "output_type": "stream",
     "text": [
      "[9, 7, 3, 12, 7]\n"
     ]
    }
   ],
   "source": [
    "a=[7,12,3,7,9]\n",
    "a.reverse()\n",
    "print(a)"
   ]
  },
  {
   "cell_type": "markdown",
   "metadata": {},
   "source": [
    "#### 요소 값 위치 찾기\n",
    "\n",
    "index(x,a,b)를 사용하면 list 내 a이상 b미만의 인덱스에서 x가 처음 나타나는 위치 값을 반환한다. 고정값으로 a는 시작점으로 b는 마지막점으로 고정되어 있다."
   ]
  },
  {
   "cell_type": "code",
   "execution_count": 2,
   "metadata": {},
   "outputs": [
    {
     "data": {
      "text/plain": [
       "0"
      ]
     },
     "execution_count": 2,
     "metadata": {},
     "output_type": "execute_result"
    }
   ],
   "source": [
    "a=[7,12,3,7,9]\n",
    "a.index(7)"
   ]
  },
  {
   "cell_type": "markdown",
   "metadata": {},
   "source": [
    "#### 요소 값 세기\n",
    "\n",
    "count(x)를 사용하면 list내 x의 갯수를 세서 반환을 해준다."
   ]
  },
  {
   "cell_type": "code",
   "execution_count": 38,
   "metadata": {},
   "outputs": [
    {
     "data": {
      "text/plain": [
       "2"
      ]
     },
     "execution_count": 38,
     "metadata": {},
     "output_type": "execute_result"
    }
   ],
   "source": [
    "a=[7,12,3,7,9]\n",
    "a.count(7)"
   ]
  },
  {
   "cell_type": "markdown",
   "metadata": {},
   "source": [
    "### Tuple\n",
    "\n",
    "튜플은 값을 변경시킬 수 없다는 점을 제외하고는 리스트와 같은 작업을 수행할 수 있다. 여기서 '값을 변경시킬 수 없다' 라는 것은 값을 수정, 변경, 삭제를 할 수 없다는 것이다. 튜플은 다음과 같이 생겼다."
   ]
  },
  {
   "cell_type": "code",
   "execution_count": 39,
   "metadata": {},
   "outputs": [
    {
     "name": "stdout",
     "output_type": "stream",
     "text": [
      "<class 'tuple'>\n"
     ]
    }
   ],
   "source": [
    "a=(1,2,3)\n",
    "print(type(a))"
   ]
  },
  {
   "cell_type": "markdown",
   "metadata": {},
   "source": [
    "리스트와 동일하게 인덱싱과 슬라이싱을 할 수 있지만 값을 변경시키는 것은 불가능하다."
   ]
  },
  {
   "cell_type": "code",
   "execution_count": 40,
   "metadata": {},
   "outputs": [
    {
     "name": "stdout",
     "output_type": "stream",
     "text": [
      "5\n",
      "(5, 6)\n"
     ]
    }
   ],
   "source": [
    "a=(4,5,6,7,8,9)\n",
    "print(a[1])\n",
    "print(a[1:3])"
   ]
  },
  {
   "cell_type": "code",
   "execution_count": 41,
   "metadata": {},
   "outputs": [
    {
     "ename": "TypeError",
     "evalue": "'tuple' object does not support item assignment",
     "output_type": "error",
     "traceback": [
      "\u001b[1;31m---------------------------------------------------------------------------\u001b[0m",
      "\u001b[1;31mTypeError\u001b[0m                                 Traceback (most recent call last)",
      "\u001b[1;32m<ipython-input-41-d0580c9a9c5a>\u001b[0m in \u001b[0;36m<module>\u001b[1;34m()\u001b[0m\n\u001b[1;32m----> 1\u001b[1;33m \u001b[0ma\u001b[0m\u001b[1;33m[\u001b[0m\u001b[1;36m1\u001b[0m\u001b[1;33m]\u001b[0m\u001b[1;33m=\u001b[0m\u001b[1;36m1\u001b[0m\u001b[1;33m\u001b[0m\u001b[0m\n\u001b[0m",
      "\u001b[1;31mTypeError\u001b[0m: 'tuple' object does not support item assignment"
     ]
    }
   ],
   "source": [
    "a[1]=1"
   ]
  },
  {
   "cell_type": "markdown",
   "metadata": {},
   "source": [
    "리스트와 같이 덧셈과 곱셈의 사칙연산을 지원한다."
   ]
  },
  {
   "cell_type": "code",
   "execution_count": 42,
   "metadata": {},
   "outputs": [
    {
     "data": {
      "text/plain": [
       "(4, 6, 9, 'a', 'c', 'q')"
      ]
     },
     "execution_count": 42,
     "metadata": {},
     "output_type": "execute_result"
    }
   ],
   "source": [
    "a=(4,6,9)\n",
    "b=(\"a\",\"c\",\"q\")\n",
    "a+b"
   ]
  },
  {
   "cell_type": "code",
   "execution_count": 43,
   "metadata": {},
   "outputs": [
    {
     "data": {
      "text/plain": [
       "(2, 4, 6, 2, 4, 6, 2, 4, 6, 2, 4, 6, 2, 4, 6)"
      ]
     },
     "execution_count": 43,
     "metadata": {},
     "output_type": "execute_result"
    }
   ],
   "source": [
    "a=(2,4,6)*5\n",
    "a"
   ]
  },
  {
   "cell_type": "markdown",
   "metadata": {},
   "source": [
    "Tuple 자료형은 값을 변경시킬 수 없다는 점이 가장 큰 특징이며, 이를 이용해 값이 변하면 안되는 것, 혹은 잘 변하지 않는 값을 사용하는 경우에 사용한다."
   ]
  },
  {
   "cell_type": "markdown",
   "metadata": {
    "collapsed": true
   },
   "source": [
    "### 4. Set\n",
    "\n",
    "Set은 집합 자료형으로 집합에 관련된 연산을 지원해준다.set()연산자를 이용하거나 { }를 사용해서 집합 자료형을 사용하며 2가지의 큰 특징이 있다.\n",
    "\n",
    "1. 순서가 없다.\n",
    "2. 중복이 없다.\n",
    "\n",
    "<br>하지만 {}만을 사용한다면 뒤에서 설명할 dict 타입이 된다."
   ]
  },
  {
   "cell_type": "code",
   "execution_count": 14,
   "metadata": {},
   "outputs": [
    {
     "name": "stdout",
     "output_type": "stream",
     "text": [
      "<class 'set'>\n",
      "<class 'set'>\n",
      "<class 'set'>\n",
      "{}\n"
     ]
    }
   ],
   "source": [
    "a={1,2,3,4,5}\n",
    "print(type(a))\n",
    "a=[1,2,3,4,5]\n",
    "print(type(set(a)))\n",
    "a=\"Hello\"\n",
    "print(type(set(a)))\n",
    "print({})"
   ]
  },
  {
   "cell_type": "code",
   "execution_count": 5,
   "metadata": {},
   "outputs": [
    {
     "name": "stdout",
     "output_type": "stream",
     "text": [
      "{'H', 'o', 'e', 'l'}\n"
     ]
    }
   ],
   "source": [
    "print(set(a))"
   ]
  },
  {
   "cell_type": "markdown",
   "metadata": {},
   "source": [
    "'순서가 없다' 라는 특징은 위의 Hello 와 같이 set으로 자료형을 변환하면서 각 글자의 위치가 달라졌다는 것을 의미한다. 따라서 '순서가 있다'라는 특징을 가지는 리스트와 튜플과 달리 인덱싱과 슬라이싱 기능을 사용할 수 없다.\n",
    "\n",
    "'중복이 없다' 라는 특징은 Hello에는 두 개의 l이 있지만 set 자료형에는 하나의 'l'만 있는 것을 확인할 수 있다. 따라서 이 점을 이용해서 다른 자료형의 중복을 제거하기 위해 사용한다."
   ]
  },
  {
   "cell_type": "markdown",
   "metadata": {},
   "source": [
    "### 집합 사칙연산\n",
    "\n",
    "집합 자료형이므로 교집합, 합집합, 차집합과 같은 연산을 지원한다."
   ]
  },
  {
   "cell_type": "code",
   "execution_count": 6,
   "metadata": {
    "collapsed": true
   },
   "outputs": [],
   "source": [
    "a=set([1,3,5,7,9])\n",
    "b=set([2,3,4,5,6])"
   ]
  },
  {
   "cell_type": "markdown",
   "metadata": {},
   "source": [
    "#### 교집합\n",
    "\n",
    "두 집합 사이의 공통된 요소를 반환한다. & 를 사용하거나 intersection()을 사용한다."
   ]
  },
  {
   "cell_type": "code",
   "execution_count": 7,
   "metadata": {},
   "outputs": [
    {
     "name": "stdout",
     "output_type": "stream",
     "text": [
      "{3, 5}\n",
      "{3, 5}\n"
     ]
    }
   ],
   "source": [
    "print(a&b)\n",
    "print(a.intersection(b))"
   ]
  },
  {
   "cell_type": "markdown",
   "metadata": {},
   "source": [
    "#### 합집합\n",
    "\n",
    "두 집합을 합치는 작업을 수행한다. | 를 사용하거나 union()을 사용한다."
   ]
  },
  {
   "cell_type": "code",
   "execution_count": 8,
   "metadata": {},
   "outputs": [
    {
     "name": "stdout",
     "output_type": "stream",
     "text": [
      "{1, 2, 3, 4, 5, 6, 7, 9}\n",
      "{1, 2, 3, 4, 5, 6, 7, 9}\n"
     ]
    }
   ],
   "source": [
    "print(a|b)\n",
    "print(a.union(b))"
   ]
  },
  {
   "cell_type": "markdown",
   "metadata": {},
   "source": [
    "#### 차집합\n",
    "\n",
    "두 집합의 차를 수행한다. - 연산자를 사용한다."
   ]
  },
  {
   "cell_type": "code",
   "execution_count": 9,
   "metadata": {},
   "outputs": [
    {
     "name": "stdout",
     "output_type": "stream",
     "text": [
      "{1, 9, 7}\n",
      "{2, 4, 6}\n"
     ]
    }
   ],
   "source": [
    "print(a-b)\n",
    "print(b-a)"
   ]
  },
  {
   "cell_type": "markdown",
   "metadata": {},
   "source": [
    "### 내장함수"
   ]
  },
  {
   "cell_type": "markdown",
   "metadata": {},
   "source": [
    "#### 값 추가하기\n",
    "\n",
    "하나의 값을 추가할 경우 add()를 사용하고 여러 값을 추가해야할 경우 update()를 사용한다."
   ]
  },
  {
   "cell_type": "code",
   "execution_count": 10,
   "metadata": {},
   "outputs": [
    {
     "name": "stdout",
     "output_type": "stream",
     "text": [
      "{1, 2, 3, 4}\n"
     ]
    }
   ],
   "source": [
    "a={1,2,3}\n",
    "a.add(4)\n",
    "print(a)"
   ]
  },
  {
   "cell_type": "code",
   "execution_count": 12,
   "metadata": {},
   "outputs": [
    {
     "data": {
      "text/plain": [
       "{1, 2, 3, 4, 5, 6}"
      ]
     },
     "execution_count": 12,
     "metadata": {},
     "output_type": "execute_result"
    }
   ],
   "source": [
    "a={1,2,3}\n",
    "a.update([4,5,6])\n",
    "a"
   ]
  },
  {
   "cell_type": "markdown",
   "metadata": {},
   "source": [
    "#### 값 제거하기\n",
    "\n",
    "값을 제거하고 싶을 경우 remove를 사용하면 된다."
   ]
  },
  {
   "cell_type": "code",
   "execution_count": 13,
   "metadata": {},
   "outputs": [
    {
     "name": "stdout",
     "output_type": "stream",
     "text": [
      "{1, 2, 3, 5, 6}\n"
     ]
    }
   ],
   "source": [
    "a={1,2,3,4,5,6}\n",
    "a.remove(4)\n",
    "print(a)"
   ]
  },
  {
   "cell_type": "markdown",
   "metadata": {},
   "source": [
    "### Dictionary\n",
    "\n",
    "Dictionary 자료형은 key 값과 value 값으로 구분되어져 있다. 즉 과일에 대한 dict 자료형이라고 하면 사과의 갯수 4개, 바나나의 갯수 5개...와 같이 대응관계를 가지고 있는 자료형이다. 이와 같은 자료형을 다른 프로그래밍 언어에서는 해쉬(Hash)라고 부른다.\n",
    "다음과 같이 사용하며 상당부분 set과 비슷한 성질을 가지고 있다."
   ]
  },
  {
   "cell_type": "code",
   "execution_count": 14,
   "metadata": {},
   "outputs": [
    {
     "name": "stdout",
     "output_type": "stream",
     "text": [
      "<class 'dict'>\n"
     ]
    }
   ],
   "source": [
    "fruit={\"apple\":5,\"banana\":4,\"melon\":7}\n",
    "print(type(fruit))"
   ]
  },
  {
   "cell_type": "markdown",
   "metadata": {},
   "source": [
    "일반적으로 key에는 변하지 않는 값을 value에는 변하는 값을 넣도록 한다.\n",
    "\n",
    "딕셔너리 자료형에 값은 다음과 같이 추가 및 제거를 한다."
   ]
  },
  {
   "cell_type": "code",
   "execution_count": 20,
   "metadata": {},
   "outputs": [
    {
     "name": "stdout",
     "output_type": "stream",
     "text": [
      "{'apple': 5, 'banana': 4, 'melon': 7, 'peach': 2}\n",
      "{'banana': 4, 'melon': 7, 'peach': 2}\n",
      "{'banana': 10, 'melon': 7, 'peach': 2}\n"
     ]
    }
   ],
   "source": [
    "fruit={\"apple\":5,\"banana\":4,\"melon\":7}\n",
    "fruit[\"peach\"]=2\n",
    "print(fruit)\n",
    "del fruit[\"apple\"]\n",
    "print(fruit)\n",
    "fruit[\"banana\"]= 10\n",
    "print(fruit)"
   ]
  },
  {
   "cell_type": "markdown",
   "metadata": {},
   "source": [
    "딕셔너리도 set과 같은 성질을 가지고 있기 때문에 숫자로 인덱싱과 슬라이싱을 할 수 없다. 대신 key값을 통해서 value 값에 접근 할 수 있다.\n",
    "\n",
    "또한 중복을 허용하지 않으므로 같은 key값은 존재할 수 없다."
   ]
  },
  {
   "cell_type": "code",
   "execution_count": 19,
   "metadata": {},
   "outputs": [
    {
     "name": "stdout",
     "output_type": "stream",
     "text": [
      "5\n",
      "7\n",
      "None\n"
     ]
    },
    {
     "ename": "KeyError",
     "evalue": "'peach'",
     "output_type": "error",
     "traceback": [
      "\u001b[1;31m---------------------------------------------------------------------------\u001b[0m",
      "\u001b[1;31mKeyError\u001b[0m                                  Traceback (most recent call last)",
      "\u001b[1;32m<ipython-input-19-982b0b167d5e>\u001b[0m in \u001b[0;36m<module>\u001b[1;34m\u001b[0m\n\u001b[0;32m      4\u001b[0m \u001b[1;31m#만약 없는 key를 조회하고자 하면?\u001b[0m\u001b[1;33m\u001b[0m\u001b[1;33m\u001b[0m\u001b[1;33m\u001b[0m\u001b[0m\n\u001b[0;32m      5\u001b[0m \u001b[0mprint\u001b[0m\u001b[1;33m(\u001b[0m\u001b[0mfruit\u001b[0m\u001b[1;33m.\u001b[0m\u001b[0mget\u001b[0m\u001b[1;33m(\u001b[0m\u001b[1;34m\"peach\"\u001b[0m\u001b[1;33m)\u001b[0m\u001b[1;33m)\u001b[0m \u001b[1;31m#get은 없으면 None을 반환\u001b[0m\u001b[1;33m\u001b[0m\u001b[1;33m\u001b[0m\u001b[0m\n\u001b[1;32m----> 6\u001b[1;33m \u001b[0mprint\u001b[0m\u001b[1;33m(\u001b[0m\u001b[0mfruit\u001b[0m\u001b[1;33m[\u001b[0m\u001b[1;34m\"peach\"\u001b[0m\u001b[1;33m]\u001b[0m\u001b[1;33m)\u001b[0m\u001b[1;33m\u001b[0m\u001b[1;33m\u001b[0m\u001b[0m\n\u001b[0m",
      "\u001b[1;31mKeyError\u001b[0m: 'peach'"
     ]
    }
   ],
   "source": [
    "fruit={\"apple\":5,\"banana\":4,\"melon\":7}\n",
    "print(fruit[\"apple\"])\n",
    "print(fruit.get(\"melon\"))\n",
    "#만약 없는 key를 조회하고자 하면?\n",
    "print(fruit.get(\"peach\")) #get은 없으면 None을 반환\n",
    "print(fruit[\"peach\"])"
   ]
  },
  {
   "cell_type": "code",
   "execution_count": 19,
   "metadata": {},
   "outputs": [
    {
     "data": {
      "text/plain": [
       "'a'"
      ]
     },
     "execution_count": 19,
     "metadata": {},
     "output_type": "execute_result"
    }
   ],
   "source": [
    "numbers={1:\"a\",2:\"b\",3:\"c\"}\n",
    "numbers[1] #1 번째 인덱스가 아닌 key 1의 값에 접근을 하는 것"
   ]
  },
  {
   "cell_type": "markdown",
   "metadata": {},
   "source": [
    "### 내장함수"
   ]
  },
  {
   "cell_type": "markdown",
   "metadata": {},
   "source": [
    "#### Key 리스트 만들기\n",
    "\n",
    "keys()는 딕셔너리의 key 값들만 모아서 리스트로 반환을 한다. 이 때 우리가 알고 있는 list 자료형이 아닌 dict_keys라는 객체를 반환하는데 리스트와 동일하게 반복문에서 사용할 수 있다. 이를 리스트로 만들고자 하면 list()함수를 사용하도록 한다."
   ]
  },
  {
   "cell_type": "code",
   "execution_count": 20,
   "metadata": {},
   "outputs": [
    {
     "data": {
      "text/plain": [
       "dict_keys(['apple', 'banana', 'melon'])"
      ]
     },
     "execution_count": 20,
     "metadata": {},
     "output_type": "execute_result"
    }
   ],
   "source": [
    "fruit={\"apple\":5,\"banana\":4,\"melon\":7}\n",
    "print(fruit.keys())"
   ]
  },
  {
   "cell_type": "markdown",
   "metadata": {},
   "source": [
    "#### value 리스트 만들기\n",
    "\n",
    "values()는 딕셔너리의 value 값들만 모아서 리스트로 반환을 한다. keys()와 마찬가지로 dict_values로 반환을 하고 동일하게 사용한다."
   ]
  },
  {
   "cell_type": "code",
   "execution_count": 21,
   "metadata": {},
   "outputs": [
    {
     "name": "stdout",
     "output_type": "stream",
     "text": [
      "dict_values([5, 4, 7])\n"
     ]
    }
   ],
   "source": [
    "print(fruit.values())"
   ]
  },
  {
   "cell_type": "markdown",
   "metadata": {},
   "source": [
    "#### item 리스트 만들기\n",
    "\n",
    "items()는 딕셔너리의 쌍들을 모아서 tuple로 묶어 리스트로 반환을 한다. keys()와 마찬가지로 dict_items로 반환을 하고 동일하게 사용한다."
   ]
  },
  {
   "cell_type": "code",
   "execution_count": 22,
   "metadata": {},
   "outputs": [
    {
     "name": "stdout",
     "output_type": "stream",
     "text": [
      "dict_items([('apple', 5), ('banana', 4), ('melon', 7)])\n"
     ]
    }
   ],
   "source": [
    "print(fruit.items())"
   ]
  },
  {
   "cell_type": "markdown",
   "metadata": {},
   "source": [
    "### Quiz 4\n",
    "XX마트에서는 쇼핑을 하고 마친 손님들의 영수증을 수집해 경품 추첨을 하는 이벤트를 하고 있습니다.<br>\n",
    "영수증을 추첨으로 뽑아 **1명은** 에어팟을 **3명은** 상품권을 증정합니다.<br>\n",
    "추첨 프로그램을 작성하시오.<br><br><br>\n",
    "\n",
    "조건 1. 영수증을 제출한 손님들의 수는 총 30명이며, 편의상 1~30번 손님이라고 가정<br>\n",
    "조건 2. 무작위로 추첨하되 중복은 불가능<br>\n",
    "조건 3. random 모듈의 shuffle과 sample을 활용하도록 한다.<br><br><br>\n",
    "\n",
    "(출력문 예제)<br>\n",
    "\\** 당첨자 발표 \\**<br>\n",
    "에어팟 당첨자 : 14 <br>\n",
    "상품권 당첨자 : [1, 13, 20] <br>\n",
    "\\** 축하합니다 \\**<br>\n"
   ]
  },
  {
   "cell_type": "code",
   "execution_count": null,
   "metadata": {},
   "outputs": [],
   "source": [
    "r"
   ]
  }
 ],
 "metadata": {
  "kernelspec": {
   "display_name": "Python 3",
   "language": "python",
   "name": "python3"
  },
  "language_info": {
   "codemirror_mode": {
    "name": "ipython",
    "version": 3
   },
   "file_extension": ".py",
   "mimetype": "text/x-python",
   "name": "python",
   "nbconvert_exporter": "python",
   "pygments_lexer": "ipython3",
   "version": "3.7.3"
  }
 },
 "nbformat": 4,
 "nbformat_minor": 2
}
